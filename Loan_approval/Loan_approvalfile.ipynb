{
 "cells": [
  {
   "cell_type": "markdown",
   "id": "62834763",
   "metadata": {},
   "source": [
    "# Project 1 Starter\n",
    "\n",
    "**This is draft - version 0 - changes are possible and will be anounced.**\n",
    "\n",
    "Project 1 is to allow students to practice Data Science concepts learned so far.\n",
    "\n",
    "The project will include following tasks:\n",
    "- Load dataset. Don't use \"index\" column for training.\n",
    "- Clean up the data:\n",
    "    - Encode replace missing values\n",
    "    - Replace features values that appear incorrect\n",
    "- Encode categorical variables\n",
    "- Split dataset to Train/Validation/Test\n",
    "- Add engineered features\n",
    "- Train and tune ML model\n",
    "- Provide final metrics using Test dataset\n",
    "\n",
    "### Types of models to train\n",
    "\n",
    "Your final submission should include single model. \n",
    "The model set you should try to come up with best model:\n",
    "1. Sklearn Logistic Regression - try all combinations of regularization\n",
    "2. H2O-3 GLM - try different combinations of regularization\n",
    "\n",
    "\n",
    "\n",
    "### Feature engineering\n",
    "\n",
    "You should train/fit categorical features scalers and encoders on Train only. Use `transform` or equivalent function on Validation/Test datasets.\n",
    "\n",
    "It is important to understand all the steps before model training, so that you can reliably replicate and test them to produce scoring function.\n",
    "\n",
    "\n",
    "You should generate various new features. Examples of such features can be seen in the Module-3 lecture on GLMs.\n",
    "Your final model should have at least **10** new engineered features. On-hot-encoding, label encoding, and target encoding is not included in the **10** features.\n",
    "You can try, but target encoding is not expected to produce improvement for Linear models.\n",
    "\n",
    "Ideas for Feature engineering for various types of variables:\n",
    "1. https://docs.h2o.ai/driverless-ai/1-10-lts/docs/userguide/transformations.html\n",
    "2. GLM lecture and hands-on (Module-3)\n",
    "\n",
    "\n",
    "**Note**: \n",
    "- You don't have to perform feature engineering using H2O-3 even if you decided to use H2O-3 GLM for model training.\n",
    "- It is OK to perfor feature engineering using any technique, as long as you can replicate it correctly in the Scoring function.\n",
    "\n",
    "\n",
    "### Threshold calculation\n",
    "\n",
    "You will need to calculate optimal threshold for class assignment using F1 metric:\n",
    "- If using sklearn, use F1 `macro`: `f1_score(y_true, y_pred, average='macro')` \n",
    "- If using H2O-3, use F1\n",
    "\n",
    "You will need to find optimal probability threshold for class assignment, the threshold that maximizes above F1.\n",
    "\n",
    "\n",
    "\n",
    "### Scoring function\n",
    "\n",
    "The Project-1 will be graded based on the completeness and performance of your final model against the hold-out dataset.\n",
    "The hold-out dataset will not be known to the students. As part of your deliverables, you will need to submit a scoring function. The scoring function will perform the following:\n",
    "- Accept dataset in the same format as provided with the project, minus \"MIS_Status\" column\n",
    "- Load trained model and any encoders/scalers that are needed to transform data\n",
    "- Transform dataset into format that can be scored with the trained model\n",
    "- Score the dataset and return the results, for each record\n",
    "    - Record ID\n",
    "    - Record label as determined by final model (0 or 1)\n",
    "    - If your model returns probabilities, you need to assign the label based on maximum F1 threshold\n",
    "    \n",
    "Scoring function header:\n",
    "```\n",
    "def project_1_scoring(data):\n",
    "    \"\"\"\n",
    "    Function to score input dataset.\n",
    "    \n",
    "    Input: dataset in Pandas DataFrame format\n",
    "    Output: Python list of labels in the same order as input records\n",
    "    \n",
    "    Flow:\n",
    "        - Load artifacts\n",
    "        - Transform dataset\n",
    "        - Score dataset\n",
    "        - Return labels\n",
    "    \n",
    "    \"\"\"\n",
    "    l = data.shape[0]\n",
    "    return l*[0]\n",
    "```\n",
    "\n",
    "Look for full example of scoring function at the bottom of the notebook. **Don't copy as is - this is just an example**\n",
    "\n",
    "\n",
    "\n",
    "### Deliverables in a single zip file in the following structure:\n",
    "- `notebook` (folder)\n",
    "    - Jupyter notebook with complete code to manipulate data, train and tune final model. `ipynb` format\n",
    "    - Jupyter notebook in `html` format\n",
    "- `artifacts` (folder)\n",
    "    - Model and any potential encoders in the \"pkl\" format or native H2O-3 format (for H2O-3 model)\n",
    "    - Scoring function that will load the final model and encoders. Separate from above notebook or `.py` file\n",
    "\n",
    "\n",
    "\n",
    "Your notebook should include explanations about your code and be designed to be easily followed and results replicated. Once you are done with the final version, you will need to test it by running all cells from top to bottom after restarting Kernel. It can be done by running `Kernel -> Restart & Run All`\n",
    "\n",
    "\n",
    "**Important**: To speed up progress, first produce working code using a small subset of the dataset."
   ]
  },
  {
   "cell_type": "code",
   "execution_count": null,
   "id": "dbeaf5cb",
   "metadata": {},
   "outputs": [],
   "source": []
  },
  {
   "cell_type": "markdown",
   "id": "c341cb74",
   "metadata": {},
   "source": [
    "## Dataset description\n",
    "\n",
    "The dataset is from the U.S. Small Business Administration (SBA) The U.S. SBA was founded in 1953 on the principle of promoting and assisting small enterprises in the U.S. credit market (SBA Overview and History, US Small Business Administration (2015)). Small businesses have been a primary source of job creation in the United States; therefore, fostering small business formation and growth has social benefits by creating job opportunities and reducing unemployment. There have been many success stories of start-ups receiving SBA loan guarantees such as FedEx and Apple Computer. However, there have also been stories of small businesses and/or start-ups that have defaulted on their SBA-guaranteed loans.  \n",
    "More info on the original dataset: https://www.kaggle.com/mirbektoktogaraev/should-this-loan-be-approved-or-denied\n",
    "\n",
    "**Don't use original dataset, use only dataset provided with project requirements in eLearning**"
   ]
  },
  {
   "cell_type": "markdown",
   "id": "a0c9b618",
   "metadata": {},
   "source": [
    "## Preparation\n",
    "\n",
    "Use dataset provided in the eLearning"
   ]
  },
  {
   "cell_type": "code",
   "execution_count": 209,
   "id": "3ca7e035",
   "metadata": {},
   "outputs": [
    {
     "data": {
      "text/html": [
       "<style>.container { width:80% !important; }</style>"
      ],
      "text/plain": [
       "<IPython.core.display.HTML object>"
      ]
     },
     "metadata": {},
     "output_type": "display_data"
    }
   ],
   "source": [
    "import pandas as pd\n",
    "pd.set_option('display.max_columns', 1500)\n",
    "\n",
    "import warnings\n",
    "warnings.filterwarnings('ignore')\n",
    "\n",
    "#Extend cell width\n",
    "from IPython.core.display import display, HTML\n",
    "display(HTML(\"<style>.container { width:80% !important; }</style>\"))"
   ]
  },
  {
   "cell_type": "code",
   "execution_count": 2,
   "id": "eb889838",
   "metadata": {},
   "outputs": [],
   "source": [
    "\"\"\"\n",
    "Created on Mon Mar 18 18:25:50 2019\n",
    "\n",
    "@author: Uri Smashnov\n",
    "\n",
    "Purpose: Analyze input Pandas DataFrame and return stats per column\n",
    "Details: The function calculates levels for categorical variables and allows to analyze summarized information\n",
    "\n",
    "To view wide table set following Pandas options:\n",
    "pd.set_option('display.width', 1000)\n",
    "pd.set_option('max_colwidth',200)\n",
    "\"\"\"\n",
    "import pandas as pd\n",
    "def describe_more(df,normalize_ind=False, weight_column=None, skip_columns=[], dropna=True):\n",
    "    var = [] ; l = [] ; t = []; unq =[]; min_l = []; max_l = [];\n",
    "    assert isinstance(skip_columns, list), \"Argument skip_columns should be list\"\n",
    "    if weight_column is not None:\n",
    "        if weight_column not in list(df.columns):\n",
    "            raise AssertionError('weight_column is not a valid column name in the input DataFrame')\n",
    "      \n",
    "    for x in df:\n",
    "        if x in skip_columns:\n",
    "            pass\n",
    "        else:\n",
    "            var.append( x )\n",
    "            uniq_counts = len(pd.value_counts(df[x],dropna=dropna))\n",
    "            uniq_counts = len(pd.value_counts(df[x], dropna=dropna)[pd.value_counts(df[x],dropna=dropna)>0])\n",
    "            l.append(uniq_counts)\n",
    "            t.append( df[ x ].dtypes )\n",
    "            min_l.append(df[x].apply(str).str.len().min())\n",
    "            max_l.append(df[x].apply(str).str.len().max())\n",
    "            if weight_column is not None and x not in skip_columns:\n",
    "                df2 = df.groupby(x).agg({weight_column: 'sum'}).sort_values(weight_column, ascending=False)\n",
    "                df2['authtrans_vts_cnt']=((df2[weight_column])/df2[weight_column].sum()).round(2)\n",
    "                unq.append(df2.head(n=100).to_dict()[weight_column])\n",
    "            else:\n",
    "                df_cat_d = df[x].value_counts(normalize=normalize_ind,dropna=dropna).round(decimals=2)\n",
    "                df_cat_d = df_cat_d[df_cat_d>0]\n",
    "                #unq.append(df[x].value_counts().iloc[0:100].to_dict())\n",
    "                unq.append(df_cat_d.iloc[0:100].to_dict())\n",
    "            \n",
    "    levels = pd.DataFrame( { 'A_Variable' : var , 'Levels' : l , 'Datatype' : t ,\n",
    "                             'Min Length' : min_l,\n",
    "                             'Max Length': max_l,\n",
    "                             'Level_Values' : unq} )\n",
    "    #levels.sort_values( by = 'Levels' , inplace = True )\n",
    "    return levels"
   ]
  },
  {
   "cell_type": "markdown",
   "id": "cee2c254",
   "metadata": {},
   "source": [
    "### Load data"
   ]
  },
  {
   "cell_type": "code",
   "execution_count": 341,
   "id": "a19bd163",
   "metadata": {},
   "outputs": [],
   "source": [
    "data = pd.read_csv('SBA_loans_project_1.csv', nrows=10000)"
   ]
  },
  {
   "cell_type": "code",
   "execution_count": 285,
   "id": "2301a5ed",
   "metadata": {},
   "outputs": [
    {
     "name": "stdout",
     "output_type": "stream",
     "text": [
      "Data shape: (10000, 21)\n"
     ]
    }
   ],
   "source": [
    "print(\"Data shape:\", data.shape)"
   ]
  },
  {
   "cell_type": "code",
   "execution_count": 342,
   "id": "ee1aeaa9",
   "metadata": {},
   "outputs": [
    {
     "name": "stdout",
     "output_type": "stream",
     "text": [
      "['P I F' 'CHGOFF' nan]\n"
     ]
    }
   ],
   "source": [
    "x=data.MIS_Status.unique()\n",
    "print(x)"
   ]
  },
  {
   "cell_type": "code",
   "execution_count": 343,
   "id": "ee80de7d",
   "metadata": {},
   "outputs": [],
   "source": [
    "# Drop null values from specified columns\n",
    "data.dropna(subset=['MIS_Status'], inplace=True)"
   ]
  },
  {
   "cell_type": "markdown",
   "id": "ab8b4aea",
   "metadata": {},
   "source": [
    "**Review dataset**"
   ]
  },
  {
   "cell_type": "code",
   "execution_count": null,
   "id": "547f9eb1",
   "metadata": {},
   "outputs": [],
   "source": []
  },
  {
   "cell_type": "markdown",
   "id": "5fe1af41",
   "metadata": {},
   "source": [
    "## Dataset preparation and clean-up\n",
    "\n",
    "Modify and clean-up the dataset as following:\n",
    "- Replace encode Na/Null values\n",
    "- Convert the strings styled as '$XXXX.XX' to float values. Columns = ['DisbursementGross', 'BalanceGross', 'GrAppv', 'SBA_Appv']\n",
    "- Convert MIS_Status to 0/1. Make value \"CHGOFF\" as 1\n",
    "\n",
    "Any additional clean-up as you find fit."
   ]
  },
  {
   "cell_type": "code",
   "execution_count": 288,
   "id": "a34b594d",
   "metadata": {
    "scrolled": true
   },
   "outputs": [
    {
     "name": "stdout",
     "output_type": "stream",
     "text": [
      "<class 'pandas.core.frame.DataFrame'>\n",
      "Int64Index: 9982 entries, 0 to 9999\n",
      "Data columns (total 21 columns):\n",
      " #   Column             Non-Null Count  Dtype  \n",
      "---  ------             --------------  -----  \n",
      " 0   index              9982 non-null   int64  \n",
      " 1   City               9982 non-null   object \n",
      " 2   State              9982 non-null   object \n",
      " 3   Zip                9982 non-null   int64  \n",
      " 4   Bank               9964 non-null   object \n",
      " 5   BankState          9964 non-null   object \n",
      " 6   NAICS              9982 non-null   int64  \n",
      " 7   Term               9982 non-null   int64  \n",
      " 8   NoEmp              9982 non-null   int64  \n",
      " 9   NewExist           9981 non-null   float64\n",
      " 10  CreateJob          9982 non-null   int64  \n",
      " 11  RetainedJob        9982 non-null   int64  \n",
      " 12  FranchiseCode      9982 non-null   int64  \n",
      " 13  UrbanRural         9982 non-null   int64  \n",
      " 14  RevLineCr          9925 non-null   object \n",
      " 15  LowDoc             9961 non-null   object \n",
      " 16  DisbursementGross  9982 non-null   object \n",
      " 17  BalanceGross       9982 non-null   object \n",
      " 18  GrAppv             9982 non-null   object \n",
      " 19  SBA_Appv           9982 non-null   object \n",
      " 20  MIS_Status         9982 non-null   object \n",
      "dtypes: float64(1), int64(9), object(11)\n",
      "memory usage: 1.7+ MB\n"
     ]
    }
   ],
   "source": [
    "data.info()"
   ]
  },
  {
   "cell_type": "code",
   "execution_count": 231,
   "id": "8441f9ae",
   "metadata": {},
   "outputs": [
    {
     "data": {
      "text/html": [
       "<div>\n",
       "<style scoped>\n",
       "    .dataframe tbody tr th:only-of-type {\n",
       "        vertical-align: middle;\n",
       "    }\n",
       "\n",
       "    .dataframe tbody tr th {\n",
       "        vertical-align: top;\n",
       "    }\n",
       "\n",
       "    .dataframe thead th {\n",
       "        text-align: right;\n",
       "    }\n",
       "</style>\n",
       "<table border=\"1\" class=\"dataframe\">\n",
       "  <thead>\n",
       "    <tr style=\"text-align: right;\">\n",
       "      <th></th>\n",
       "      <th>index</th>\n",
       "      <th>City</th>\n",
       "      <th>State</th>\n",
       "      <th>Zip</th>\n",
       "      <th>Bank</th>\n",
       "      <th>BankState</th>\n",
       "      <th>NAICS</th>\n",
       "      <th>Term</th>\n",
       "      <th>NoEmp</th>\n",
       "      <th>NewExist</th>\n",
       "      <th>CreateJob</th>\n",
       "      <th>RetainedJob</th>\n",
       "      <th>FranchiseCode</th>\n",
       "      <th>UrbanRural</th>\n",
       "      <th>RevLineCr</th>\n",
       "      <th>LowDoc</th>\n",
       "      <th>DisbursementGross</th>\n",
       "      <th>BalanceGross</th>\n",
       "      <th>GrAppv</th>\n",
       "      <th>SBA_Appv</th>\n",
       "      <th>MIS_Status</th>\n",
       "    </tr>\n",
       "  </thead>\n",
       "  <tbody>\n",
       "    <tr>\n",
       "      <th>0</th>\n",
       "      <td>0</td>\n",
       "      <td>GLEN BURNIE</td>\n",
       "      <td>MD</td>\n",
       "      <td>21060</td>\n",
       "      <td>BUSINESS FINANCE GROUP, INC.</td>\n",
       "      <td>VA</td>\n",
       "      <td>811111</td>\n",
       "      <td>240</td>\n",
       "      <td>7</td>\n",
       "      <td>1.0</td>\n",
       "      <td>6</td>\n",
       "      <td>7</td>\n",
       "      <td>1</td>\n",
       "      <td>1</td>\n",
       "      <td>0</td>\n",
       "      <td>N</td>\n",
       "      <td>$743,000.00</td>\n",
       "      <td>$0.00</td>\n",
       "      <td>$743,000.00</td>\n",
       "      <td>$743,000.00</td>\n",
       "      <td>P I F</td>\n",
       "    </tr>\n",
       "    <tr>\n",
       "      <th>1</th>\n",
       "      <td>1</td>\n",
       "      <td>WEST BEND</td>\n",
       "      <td>WI</td>\n",
       "      <td>53095</td>\n",
       "      <td>JPMORGAN CHASE BANK NATL ASSOC</td>\n",
       "      <td>IL</td>\n",
       "      <td>722410</td>\n",
       "      <td>240</td>\n",
       "      <td>20</td>\n",
       "      <td>1.0</td>\n",
       "      <td>0</td>\n",
       "      <td>0</td>\n",
       "      <td>1</td>\n",
       "      <td>0</td>\n",
       "      <td>N</td>\n",
       "      <td>N</td>\n",
       "      <td>$137,000.00</td>\n",
       "      <td>$0.00</td>\n",
       "      <td>$137,000.00</td>\n",
       "      <td>$109,737.00</td>\n",
       "      <td>P I F</td>\n",
       "    </tr>\n",
       "    <tr>\n",
       "      <th>2</th>\n",
       "      <td>2</td>\n",
       "      <td>SAN DIEGO</td>\n",
       "      <td>CA</td>\n",
       "      <td>92128</td>\n",
       "      <td>UMPQUA BANK</td>\n",
       "      <td>OR</td>\n",
       "      <td>0</td>\n",
       "      <td>120</td>\n",
       "      <td>2</td>\n",
       "      <td>1.0</td>\n",
       "      <td>0</td>\n",
       "      <td>0</td>\n",
       "      <td>1</td>\n",
       "      <td>0</td>\n",
       "      <td>0</td>\n",
       "      <td>N</td>\n",
       "      <td>$280,000.00</td>\n",
       "      <td>$0.00</td>\n",
       "      <td>$280,000.00</td>\n",
       "      <td>$210,000.00</td>\n",
       "      <td>P I F</td>\n",
       "    </tr>\n",
       "    <tr>\n",
       "      <th>3</th>\n",
       "      <td>3</td>\n",
       "      <td>WEBSTER</td>\n",
       "      <td>MA</td>\n",
       "      <td>1570</td>\n",
       "      <td>HOMETOWN BANK A CO-OPERATIVE B</td>\n",
       "      <td>MA</td>\n",
       "      <td>621310</td>\n",
       "      <td>84</td>\n",
       "      <td>7</td>\n",
       "      <td>1.0</td>\n",
       "      <td>0</td>\n",
       "      <td>0</td>\n",
       "      <td>1</td>\n",
       "      <td>1</td>\n",
       "      <td>0</td>\n",
       "      <td>Y</td>\n",
       "      <td>$144,500.00</td>\n",
       "      <td>$0.00</td>\n",
       "      <td>$144,500.00</td>\n",
       "      <td>$122,825.00</td>\n",
       "      <td>P I F</td>\n",
       "    </tr>\n",
       "    <tr>\n",
       "      <th>4</th>\n",
       "      <td>4</td>\n",
       "      <td>JOPLIN</td>\n",
       "      <td>MO</td>\n",
       "      <td>64804</td>\n",
       "      <td>U.S. BANK NATIONAL ASSOCIATION</td>\n",
       "      <td>OH</td>\n",
       "      <td>0</td>\n",
       "      <td>60</td>\n",
       "      <td>2</td>\n",
       "      <td>2.0</td>\n",
       "      <td>0</td>\n",
       "      <td>0</td>\n",
       "      <td>1</td>\n",
       "      <td>0</td>\n",
       "      <td>N</td>\n",
       "      <td>Y</td>\n",
       "      <td>$52,500.00</td>\n",
       "      <td>$0.00</td>\n",
       "      <td>$52,500.00</td>\n",
       "      <td>$42,000.00</td>\n",
       "      <td>P I F</td>\n",
       "    </tr>\n",
       "  </tbody>\n",
       "</table>\n",
       "</div>"
      ],
      "text/plain": [
       "   index         City State    Zip                            Bank BankState  \\\n",
       "0      0  GLEN BURNIE    MD  21060    BUSINESS FINANCE GROUP, INC.        VA   \n",
       "1      1    WEST BEND    WI  53095  JPMORGAN CHASE BANK NATL ASSOC        IL   \n",
       "2      2    SAN DIEGO    CA  92128                     UMPQUA BANK        OR   \n",
       "3      3      WEBSTER    MA   1570  HOMETOWN BANK A CO-OPERATIVE B        MA   \n",
       "4      4       JOPLIN    MO  64804  U.S. BANK NATIONAL ASSOCIATION        OH   \n",
       "\n",
       "    NAICS  Term  NoEmp  NewExist  CreateJob  RetainedJob  FranchiseCode  \\\n",
       "0  811111   240      7       1.0          6            7              1   \n",
       "1  722410   240     20       1.0          0            0              1   \n",
       "2       0   120      2       1.0          0            0              1   \n",
       "3  621310    84      7       1.0          0            0              1   \n",
       "4       0    60      2       2.0          0            0              1   \n",
       "\n",
       "   UrbanRural RevLineCr LowDoc DisbursementGross BalanceGross        GrAppv  \\\n",
       "0           1         0      N      $743,000.00        $0.00   $743,000.00    \n",
       "1           0         N      N      $137,000.00        $0.00   $137,000.00    \n",
       "2           0         0      N      $280,000.00        $0.00   $280,000.00    \n",
       "3           1         0      Y      $144,500.00        $0.00   $144,500.00    \n",
       "4           0         N      Y       $52,500.00        $0.00    $52,500.00    \n",
       "\n",
       "       SBA_Appv MIS_Status  \n",
       "0  $743,000.00       P I F  \n",
       "1  $109,737.00       P I F  \n",
       "2  $210,000.00       P I F  \n",
       "3  $122,825.00       P I F  \n",
       "4   $42,000.00       P I F  "
      ]
     },
     "execution_count": 231,
     "metadata": {},
     "output_type": "execute_result"
    }
   ],
   "source": [
    "data.head()\n"
   ]
  },
  {
   "cell_type": "code",
   "execution_count": 344,
   "id": "0f9f9eaa",
   "metadata": {},
   "outputs": [
    {
     "data": {
      "text/plain": [
       "index                 0\n",
       "City                  0\n",
       "State                 0\n",
       "Zip                   0\n",
       "Bank                 18\n",
       "BankState            18\n",
       "NAICS                 0\n",
       "Term                  0\n",
       "NoEmp                 0\n",
       "NewExist              1\n",
       "CreateJob             0\n",
       "RetainedJob           0\n",
       "FranchiseCode         0\n",
       "UrbanRural            0\n",
       "RevLineCr            57\n",
       "LowDoc               21\n",
       "DisbursementGross     0\n",
       "BalanceGross          0\n",
       "GrAppv                0\n",
       "SBA_Appv              0\n",
       "MIS_Status            0\n",
       "dtype: int64"
      ]
     },
     "execution_count": 344,
     "metadata": {},
     "output_type": "execute_result"
    }
   ],
   "source": [
    "dataset = data.copy()\n",
    "dataset.isnull().sum()\n",
    "\n"
   ]
  },
  {
   "cell_type": "code",
   "execution_count": 345,
   "id": "2fdd9bec",
   "metadata": {},
   "outputs": [
    {
     "data": {
      "text/plain": [
       "index                9982\n",
       "City                 3894\n",
       "State                  51\n",
       "Zip                  6215\n",
       "Bank                 1398\n",
       "BankState              52\n",
       "NAICS                 836\n",
       "Term                  280\n",
       "NoEmp                 144\n",
       "NewExist                3\n",
       "CreateJob              62\n",
       "RetainedJob           102\n",
       "FranchiseCode         320\n",
       "UrbanRural              3\n",
       "RevLineCr               4\n",
       "LowDoc                  7\n",
       "DisbursementGross    3328\n",
       "BalanceGross            1\n",
       "GrAppv               1670\n",
       "SBA_Appv             2425\n",
       "MIS_Status              2\n",
       "dtype: int64"
      ]
     },
     "execution_count": 345,
     "metadata": {},
     "output_type": "execute_result"
    }
   ],
   "source": [
    "dataset.nunique()"
   ]
  },
  {
   "cell_type": "code",
   "execution_count": 290,
   "id": "0d2cdcaa",
   "metadata": {},
   "outputs": [
    {
     "name": "stdout",
     "output_type": "stream",
     "text": [
      "<class 'pandas.core.frame.DataFrame'>\n",
      "Int64Index: 9982 entries, 0 to 9999\n",
      "Data columns (total 21 columns):\n",
      " #   Column             Non-Null Count  Dtype  \n",
      "---  ------             --------------  -----  \n",
      " 0   index              9982 non-null   int64  \n",
      " 1   City               9982 non-null   object \n",
      " 2   State              9982 non-null   object \n",
      " 3   Zip                9982 non-null   int64  \n",
      " 4   Bank               9964 non-null   object \n",
      " 5   BankState          9964 non-null   object \n",
      " 6   NAICS              9982 non-null   int64  \n",
      " 7   Term               9982 non-null   int64  \n",
      " 8   NoEmp              9982 non-null   int64  \n",
      " 9   NewExist           9981 non-null   float64\n",
      " 10  CreateJob          9982 non-null   int64  \n",
      " 11  RetainedJob        9982 non-null   int64  \n",
      " 12  FranchiseCode      9982 non-null   int64  \n",
      " 13  UrbanRural         9982 non-null   int64  \n",
      " 14  RevLineCr          9925 non-null   object \n",
      " 15  LowDoc             9961 non-null   object \n",
      " 16  DisbursementGross  9982 non-null   object \n",
      " 17  BalanceGross       9982 non-null   object \n",
      " 18  GrAppv             9982 non-null   object \n",
      " 19  SBA_Appv           9982 non-null   object \n",
      " 20  MIS_Status         9982 non-null   object \n",
      "dtypes: float64(1), int64(9), object(11)\n",
      "memory usage: 1.7+ MB\n"
     ]
    }
   ],
   "source": [
    "dataset.info()"
   ]
  },
  {
   "cell_type": "code",
   "execution_count": null,
   "id": "8d24c927",
   "metadata": {},
   "outputs": [],
   "source": []
  },
  {
   "cell_type": "code",
   "execution_count": null,
   "id": "499aac03",
   "metadata": {},
   "outputs": [],
   "source": []
  },
  {
   "cell_type": "code",
   "execution_count": 291,
   "id": "93f5f535",
   "metadata": {},
   "outputs": [
    {
     "name": "stdout",
     "output_type": "stream",
     "text": [
      "[]\n"
     ]
    }
   ],
   "source": [
    "#numerical variable with nan\n",
    "numerical_with_nan=[feature for feature in dataset.columns if dataset[feature].isnull().sum()>1 and dataset[feature].dtypes!='O']\n",
    "print(numerical_with_nan)\n",
    "#we don't find any numerical variable with nan/null value"
   ]
  },
  {
   "cell_type": "code",
   "execution_count": 292,
   "id": "92328850",
   "metadata": {},
   "outputs": [
    {
     "name": "stdout",
     "output_type": "stream",
     "text": [
      "['Bank', 'BankState', 'RevLineCr', 'LowDoc']\n"
     ]
    }
   ],
   "source": [
    "## Let us capture all the nan values\n",
    "## First lets handle Categorical features which are missing\n",
    "cat_features_nan=[feature for feature in dataset.columns if dataset[feature].isnull().sum()>1 and dataset[feature].dtypes=='O']\n",
    "print(cat_features_nan)"
   ]
  },
  {
   "cell_type": "code",
   "execution_count": 293,
   "id": "02860f99",
   "metadata": {},
   "outputs": [
    {
     "name": "stdout",
     "output_type": "stream",
     "text": [
      "Bank 0.1803  % missing values\n",
      "BankState 0.1803  % missing values\n",
      "RevLineCr 0.571  % missing values\n",
      "LowDoc 0.2104  % missing values\n"
     ]
    }
   ],
   "source": [
    "import numpy as np\n",
    "for feature in cat_features_nan:\n",
    "    print(feature, np.round(dataset[feature].isnull().sum()*100 / len(dataset),4),  ' % missing values')"
   ]
  },
  {
   "cell_type": "code",
   "execution_count": 346,
   "id": "e0c666e5",
   "metadata": {},
   "outputs": [
    {
     "data": {
      "text/plain": [
       "Bank         0\n",
       "BankState    0\n",
       "RevLineCr    0\n",
       "LowDoc       0\n",
       "dtype: int64"
      ]
     },
     "execution_count": 346,
     "metadata": {},
     "output_type": "execute_result"
    }
   ],
   "source": [
    "## Replace missing value in categorical with a new label\n",
    "def replace_cat_feature(dataset,features_nan):\n",
    "    data=dataset.copy()\n",
    "    data[features_nan]=data[features_nan].fillna('Missing')\n",
    "    return data\n",
    "\n",
    "dataset=replace_cat_feature(dataset,cat_features_nan)\n",
    "\n",
    "dataset[cat_features_nan].isnull().sum()"
   ]
  },
  {
   "cell_type": "code",
   "execution_count": 347,
   "id": "5b9d6bde",
   "metadata": {},
   "outputs": [
    {
     "data": {
      "text/plain": [
       "Bank         1399\n",
       "BankState      53\n",
       "RevLineCr       5\n",
       "LowDoc          8\n",
       "dtype: int64"
      ]
     },
     "execution_count": 347,
     "metadata": {},
     "output_type": "execute_result"
    }
   ],
   "source": [
    "dataset[cat_features_nan].nunique()"
   ]
  },
  {
   "cell_type": "code",
   "execution_count": 348,
   "id": "7fa53c88",
   "metadata": {},
   "outputs": [],
   "source": [
    "dataset['MIS_Status'].replace(['P I F','CHGOFF'],[0,1],inplace=True)\n"
   ]
  },
  {
   "cell_type": "code",
   "execution_count": 350,
   "id": "629919fb",
   "metadata": {},
   "outputs": [],
   "source": [
    "dataset[['DisbursementGross', 'BalanceGross', 'GrAppv', 'SBA_Appv']] = \\\n",
    "dataset[['DisbursementGross', 'BalanceGross', 'GrAppv', 'SBA_Appv']].applymap(lambda x: x.strip().replace('$', '').replace(',', ''))"
   ]
  },
  {
   "cell_type": "code",
   "execution_count": 351,
   "id": "71beddc3",
   "metadata": {},
   "outputs": [
    {
     "data": {
      "text/html": [
       "<div>\n",
       "<style scoped>\n",
       "    .dataframe tbody tr th:only-of-type {\n",
       "        vertical-align: middle;\n",
       "    }\n",
       "\n",
       "    .dataframe tbody tr th {\n",
       "        vertical-align: top;\n",
       "    }\n",
       "\n",
       "    .dataframe thead th {\n",
       "        text-align: right;\n",
       "    }\n",
       "</style>\n",
       "<table border=\"1\" class=\"dataframe\">\n",
       "  <thead>\n",
       "    <tr style=\"text-align: right;\">\n",
       "      <th></th>\n",
       "      <th>index</th>\n",
       "      <th>City</th>\n",
       "      <th>State</th>\n",
       "      <th>Zip</th>\n",
       "      <th>Bank</th>\n",
       "      <th>BankState</th>\n",
       "      <th>NAICS</th>\n",
       "      <th>Term</th>\n",
       "      <th>NoEmp</th>\n",
       "      <th>NewExist</th>\n",
       "      <th>CreateJob</th>\n",
       "      <th>RetainedJob</th>\n",
       "      <th>FranchiseCode</th>\n",
       "      <th>UrbanRural</th>\n",
       "      <th>RevLineCr</th>\n",
       "      <th>LowDoc</th>\n",
       "      <th>DisbursementGross</th>\n",
       "      <th>BalanceGross</th>\n",
       "      <th>GrAppv</th>\n",
       "      <th>SBA_Appv</th>\n",
       "      <th>MIS_Status</th>\n",
       "    </tr>\n",
       "  </thead>\n",
       "  <tbody>\n",
       "    <tr>\n",
       "      <th>0</th>\n",
       "      <td>0</td>\n",
       "      <td>GLEN BURNIE</td>\n",
       "      <td>MD</td>\n",
       "      <td>21060</td>\n",
       "      <td>BUSINESS FINANCE GROUP, INC.</td>\n",
       "      <td>VA</td>\n",
       "      <td>811111</td>\n",
       "      <td>240</td>\n",
       "      <td>7</td>\n",
       "      <td>1.0</td>\n",
       "      <td>6</td>\n",
       "      <td>7</td>\n",
       "      <td>1</td>\n",
       "      <td>1</td>\n",
       "      <td>0</td>\n",
       "      <td>N</td>\n",
       "      <td>743000.00</td>\n",
       "      <td>0.00</td>\n",
       "      <td>743000.00</td>\n",
       "      <td>743000.00</td>\n",
       "      <td>0</td>\n",
       "    </tr>\n",
       "    <tr>\n",
       "      <th>1</th>\n",
       "      <td>1</td>\n",
       "      <td>WEST BEND</td>\n",
       "      <td>WI</td>\n",
       "      <td>53095</td>\n",
       "      <td>JPMORGAN CHASE BANK NATL ASSOC</td>\n",
       "      <td>IL</td>\n",
       "      <td>722410</td>\n",
       "      <td>240</td>\n",
       "      <td>20</td>\n",
       "      <td>1.0</td>\n",
       "      <td>0</td>\n",
       "      <td>0</td>\n",
       "      <td>1</td>\n",
       "      <td>0</td>\n",
       "      <td>N</td>\n",
       "      <td>N</td>\n",
       "      <td>137000.00</td>\n",
       "      <td>0.00</td>\n",
       "      <td>137000.00</td>\n",
       "      <td>109737.00</td>\n",
       "      <td>0</td>\n",
       "    </tr>\n",
       "    <tr>\n",
       "      <th>2</th>\n",
       "      <td>2</td>\n",
       "      <td>SAN DIEGO</td>\n",
       "      <td>CA</td>\n",
       "      <td>92128</td>\n",
       "      <td>UMPQUA BANK</td>\n",
       "      <td>OR</td>\n",
       "      <td>0</td>\n",
       "      <td>120</td>\n",
       "      <td>2</td>\n",
       "      <td>1.0</td>\n",
       "      <td>0</td>\n",
       "      <td>0</td>\n",
       "      <td>1</td>\n",
       "      <td>0</td>\n",
       "      <td>0</td>\n",
       "      <td>N</td>\n",
       "      <td>280000.00</td>\n",
       "      <td>0.00</td>\n",
       "      <td>280000.00</td>\n",
       "      <td>210000.00</td>\n",
       "      <td>0</td>\n",
       "    </tr>\n",
       "    <tr>\n",
       "      <th>3</th>\n",
       "      <td>3</td>\n",
       "      <td>WEBSTER</td>\n",
       "      <td>MA</td>\n",
       "      <td>1570</td>\n",
       "      <td>HOMETOWN BANK A CO-OPERATIVE B</td>\n",
       "      <td>MA</td>\n",
       "      <td>621310</td>\n",
       "      <td>84</td>\n",
       "      <td>7</td>\n",
       "      <td>1.0</td>\n",
       "      <td>0</td>\n",
       "      <td>0</td>\n",
       "      <td>1</td>\n",
       "      <td>1</td>\n",
       "      <td>0</td>\n",
       "      <td>Y</td>\n",
       "      <td>144500.00</td>\n",
       "      <td>0.00</td>\n",
       "      <td>144500.00</td>\n",
       "      <td>122825.00</td>\n",
       "      <td>0</td>\n",
       "    </tr>\n",
       "    <tr>\n",
       "      <th>4</th>\n",
       "      <td>4</td>\n",
       "      <td>JOPLIN</td>\n",
       "      <td>MO</td>\n",
       "      <td>64804</td>\n",
       "      <td>U.S. BANK NATIONAL ASSOCIATION</td>\n",
       "      <td>OH</td>\n",
       "      <td>0</td>\n",
       "      <td>60</td>\n",
       "      <td>2</td>\n",
       "      <td>2.0</td>\n",
       "      <td>0</td>\n",
       "      <td>0</td>\n",
       "      <td>1</td>\n",
       "      <td>0</td>\n",
       "      <td>N</td>\n",
       "      <td>Y</td>\n",
       "      <td>52500.00</td>\n",
       "      <td>0.00</td>\n",
       "      <td>52500.00</td>\n",
       "      <td>42000.00</td>\n",
       "      <td>0</td>\n",
       "    </tr>\n",
       "  </tbody>\n",
       "</table>\n",
       "</div>"
      ],
      "text/plain": [
       "   index         City State    Zip                            Bank BankState  \\\n",
       "0      0  GLEN BURNIE    MD  21060    BUSINESS FINANCE GROUP, INC.        VA   \n",
       "1      1    WEST BEND    WI  53095  JPMORGAN CHASE BANK NATL ASSOC        IL   \n",
       "2      2    SAN DIEGO    CA  92128                     UMPQUA BANK        OR   \n",
       "3      3      WEBSTER    MA   1570  HOMETOWN BANK A CO-OPERATIVE B        MA   \n",
       "4      4       JOPLIN    MO  64804  U.S. BANK NATIONAL ASSOCIATION        OH   \n",
       "\n",
       "    NAICS  Term  NoEmp  NewExist  CreateJob  RetainedJob  FranchiseCode  \\\n",
       "0  811111   240      7       1.0          6            7              1   \n",
       "1  722410   240     20       1.0          0            0              1   \n",
       "2       0   120      2       1.0          0            0              1   \n",
       "3  621310    84      7       1.0          0            0              1   \n",
       "4       0    60      2       2.0          0            0              1   \n",
       "\n",
       "   UrbanRural RevLineCr LowDoc DisbursementGross BalanceGross     GrAppv  \\\n",
       "0           1         0      N         743000.00         0.00  743000.00   \n",
       "1           0         N      N         137000.00         0.00  137000.00   \n",
       "2           0         0      N         280000.00         0.00  280000.00   \n",
       "3           1         0      Y         144500.00         0.00  144500.00   \n",
       "4           0         N      Y          52500.00         0.00   52500.00   \n",
       "\n",
       "    SBA_Appv  MIS_Status  \n",
       "0  743000.00           0  \n",
       "1  109737.00           0  \n",
       "2  210000.00           0  \n",
       "3  122825.00           0  \n",
       "4   42000.00           0  "
      ]
     },
     "execution_count": 351,
     "metadata": {},
     "output_type": "execute_result"
    }
   ],
   "source": [
    "dataset.head()"
   ]
  },
  {
   "cell_type": "code",
   "execution_count": 299,
   "id": "7d827f2d",
   "metadata": {
    "scrolled": false
   },
   "outputs": [
    {
     "data": {
      "text/plain": [
       "index                                           948\n",
       "City                                     WASHINGTON\n",
       "State                                            DC\n",
       "Zip                                           20017\n",
       "Bank                 PNC BANK, NATIONAL ASSOCIATION\n",
       "BankState                                        DE\n",
       "NAICS                                        611699\n",
       "Term                                             84\n",
       "NoEmp                                             1\n",
       "NewExist                                        2.0\n",
       "CreateJob                                         0\n",
       "RetainedJob                                       1\n",
       "FranchiseCode                                     1\n",
       "UrbanRural                                        1\n",
       "RevLineCr                                         0\n",
       "LowDoc                                            N\n",
       "DisbursementGross                         149058.00\n",
       "BalanceGross                                   0.00\n",
       "GrAppv                                    150000.00\n",
       "SBA_Appv                                  127500.00\n",
       "MIS_Status                                        0\n",
       "Name: 948, dtype: object"
      ]
     },
     "execution_count": 299,
     "metadata": {},
     "output_type": "execute_result"
    }
   ],
   "source": [
    "dataset.iloc[946]"
   ]
  },
  {
   "cell_type": "code",
   "execution_count": 352,
   "id": "7550d370",
   "metadata": {},
   "outputs": [
    {
     "name": "stdout",
     "output_type": "stream",
     "text": [
      "Number of numerical variables:  11\n",
      "['index', 'Zip', 'NAICS', 'Term', 'NoEmp', 'NewExist', 'CreateJob', 'RetainedJob', 'FranchiseCode', 'UrbanRural', 'MIS_Status']\n"
     ]
    }
   ],
   "source": [
    "# list of numerical variables\n",
    "numerical_features = [i for i in dataset.columns if dataset[i].dtypes != 'O']\n",
    "\n",
    "print('Number of numerical variables: ', len(numerical_features))\n",
    "\n",
    "# visualise the numerical variables\n",
    "dataset[numerical_features].head()\n",
    "print(numerical_features)"
   ]
  },
  {
   "cell_type": "code",
   "execution_count": 353,
   "id": "1fae2fe0",
   "metadata": {
    "scrolled": true
   },
   "outputs": [
    {
     "name": "stdout",
     "output_type": "stream",
     "text": [
      "Discrete Variables Count: 3\n"
     ]
    }
   ],
   "source": [
    "discrete_feature=[feature for feature in numerical_features if len(dataset[feature].unique())<25]\n",
    "print(\"Discrete Variables Count: {}\".format(len(discrete_feature)))"
   ]
  },
  {
   "cell_type": "code",
   "execution_count": 354,
   "id": "56a2f06a",
   "metadata": {},
   "outputs": [
    {
     "name": "stdout",
     "output_type": "stream",
     "text": [
      "['NewExist', 'UrbanRural', 'MIS_Status']\n"
     ]
    }
   ],
   "source": [
    "print(discrete_feature)"
   ]
  },
  {
   "cell_type": "code",
   "execution_count": 355,
   "id": "876abf9b",
   "metadata": {},
   "outputs": [
    {
     "name": "stdout",
     "output_type": "stream",
     "text": [
      "Continuous feature Count 7\n"
     ]
    }
   ],
   "source": [
    "#column with more than 25 different type of numerical variable\n",
    "continuous_feature=[feature for feature in numerical_features if feature not in discrete_feature+['index']]\n",
    "print(\"Continuous feature Count {}\".format(len(continuous_feature)))"
   ]
  },
  {
   "cell_type": "code",
   "execution_count": 356,
   "id": "64eb3a80",
   "metadata": {},
   "outputs": [
    {
     "name": "stdout",
     "output_type": "stream",
     "text": [
      "['Zip', 'NAICS', 'Term', 'NoEmp', 'CreateJob', 'RetainedJob', 'FranchiseCode']\n"
     ]
    }
   ],
   "source": [
    "print(continuous_feature)"
   ]
  },
  {
   "cell_type": "code",
   "execution_count": 357,
   "id": "1dd442b5",
   "metadata": {},
   "outputs": [
    {
     "data": {
      "text/plain": [
       "Zip              0\n",
       "NAICS            0\n",
       "Term             0\n",
       "NoEmp            0\n",
       "CreateJob        0\n",
       "RetainedJob      0\n",
       "FranchiseCode    0\n",
       "dtype: int64"
      ]
     },
     "execution_count": 357,
     "metadata": {},
     "output_type": "execute_result"
    }
   ],
   "source": [
    "dataset[continuous_feature].isnull().sum()\n"
   ]
  },
  {
   "cell_type": "code",
   "execution_count": 249,
   "id": "19741b8a",
   "metadata": {},
   "outputs": [
    {
     "data": {
      "image/png": "[encoded data removed]",
      "text/plain": [
       "<Figure size 640x480 with 1 Axes>"
      ]
     },
     "metadata": {},
     "output_type": "display_data"
    },
    {
     "data": {
      "image/png": "[encoded data removed]",
      "text/plain": [
       "<Figure size 640x480 with 1 Axes>"
      ]
     },
     "metadata": {},
     "output_type": "display_data"
    },
    {
     "data": {
      "image/png": "[encoded data removed]",
      "text/plain": [
       "<Figure size 640x480 with 1 Axes>"
      ]
     },
     "metadata": {},
     "output_type": "display_data"
    },
    {
     "data": {
      "image/png": "[encoded data removed]",
      "text/plain": [
       "<Figure size 640x480 with 1 Axes>"
      ]
     },
     "metadata": {},
     "output_type": "display_data"
    },
    {
     "data": {
      "image/png": "[encoded data removed]",
      "text/plain": [
       "<Figure size 640x480 with 1 Axes>"
      ]
     },
     "metadata": {},
     "output_type": "display_data"
    },
    {
     "data": {
      "image/png": "[encoded data removed]",
      "text/plain": [
       "<Figure size 640x480 with 1 Axes>"
      ]
     },
     "metadata": {},
     "output_type": "display_data"
    },
    {
     "data": {
      "image/png": "[encoded data removed]",
      "text/plain": [
       "<Figure size 640x480 with 1 Axes>"
      ]
     },
     "metadata": {},
     "output_type": "display_data"
    }
   ],
   "source": [
    "import matplotlib.pyplot as plt\n",
    "import seaborn as sns\n",
    "for feature in continuous_feature:\n",
    "        data=dataset.copy()\n",
    "        data[feature].hist(bins=25)\n",
    "        plt.xlabel(feature)\n",
    "        plt.ylabel(\"Count\")\n",
    "        plt.title(feature)\n",
    "        plt.show()\n",
    "  "
   ]
  },
  {
   "cell_type": "code",
   "execution_count": 358,
   "id": "52dcaa8f",
   "metadata": {
    "scrolled": true
   },
   "outputs": [
    {
     "name": "stdout",
     "output_type": "stream",
     "text": [
      "[   6    0    2    1    4   15   20   12   14    3    8   38    5   45\n",
      "   18    9   30   11    7   10   60   31   13   21   19   41   16   93\n",
      "   24   40   25   72   22   55   50   33   85  100   17   65   27   23\n",
      "   26   28   29   32   66 8800  200   47   49   35   34  150   75   53\n",
      "  108  455   37   36   44  180]\n"
     ]
    }
   ],
   "source": [
    "x=dataset.CreateJob.unique()\n",
    "print(x)"
   ]
  },
  {
   "cell_type": "code",
   "execution_count": 359,
   "id": "fcfb1607",
   "metadata": {},
   "outputs": [
    {
     "name": "stdout",
     "output_type": "stream",
     "text": [
      "Zip\n",
      "NAICS\n",
      "Term\n",
      "NoEmp\n",
      "CreateJob\n",
      "RetainedJob\n",
      "FranchiseCode\n"
     ]
    }
   ],
   "source": [
    "for feature in continuous_feature:\n",
    "    data=dataset.copy()\n",
    "    if 0 in data[feature].unique():\n",
    "        print(feature)"
   ]
  },
  {
   "cell_type": "raw",
   "id": "61da10a0",
   "metadata": {
    "scrolled": true
   },
   "source": [
    "# we are not tranforming the data because of zeroes in all continuos variable "
   ]
  },
  {
   "cell_type": "code",
   "execution_count": 360,
   "id": "5ae9b106",
   "metadata": {},
   "outputs": [
    {
     "name": "stdout",
     "output_type": "stream",
     "text": [
      "[   6    0    2    1    4   15   20   12   14    3    8   38    5   45\n",
      "   18    9   30   11    7   10   60   31   13   21   19   41   16   93\n",
      "   24   40   25   72   22   55   50   33   85  100   17   65   27   23\n",
      "   26   28   29   32   66 8800  200   47   49   35   34  150   75   53\n",
      "  108  455   37   36   44  180]\n"
     ]
    }
   ],
   "source": [
    "x=dataset.CreateJob.unique()\n",
    "print(x)"
   ]
  },
  {
   "cell_type": "markdown",
   "id": "b7f21dcf",
   "metadata": {},
   "source": [
    "## Categorical and numerical variables encoding\n",
    "\n",
    "Encode categorical variables using either one of the techniques below. Don't use LabelEncoder.\n",
    "- One-hot-encoder for variables with less than 10 valid values. Name your new columns \"Original_name\"_valid_value\n",
    "- Target encoder from the following library: https://contrib.scikit-learn.org/category_encoders/index.html . Name your new column \"Original_name\"_trg\n",
    "- WOE encoder from the following library: https://contrib.scikit-learn.org/category_encoders/index.html . Name your new column \"Original_name\"_woe\n",
    "\n",
    "\n",
    "WOE encoder can be used with numerical variables too. \n",
    "\n",
    "\n",
    "Example of use for target encoder:\n",
    "```\n",
    "import category_encoders as ce\n",
    "\n",
    "encoder = ce.TargetEncoder(cols=[...])\n",
    "\n",
    "encoder.fit(X, y)\n",
    "X_cleaned = encoder.transform(X_dirty)\n",
    "```"
   ]
  },
  {
   "cell_type": "code",
   "execution_count": 361,
   "id": "f54b16b1",
   "metadata": {},
   "outputs": [
    {
     "data": {
      "text/plain": [
       "['City',\n",
       " 'State',\n",
       " 'Bank',\n",
       " 'BankState',\n",
       " 'RevLineCr',\n",
       " 'LowDoc',\n",
       " 'DisbursementGross',\n",
       " 'BalanceGross',\n",
       " 'GrAppv',\n",
       " 'SBA_Appv']"
      ]
     },
     "execution_count": 361,
     "metadata": {},
     "output_type": "execute_result"
    }
   ],
   "source": [
    "categorical_features=[feature for feature in dataset.columns if dataset[feature].dtypes=='O']\n",
    "categorical_features"
   ]
  },
  {
   "cell_type": "code",
   "execution_count": 362,
   "id": "d12154ed",
   "metadata": {},
   "outputs": [
    {
     "data": {
      "text/plain": [
       "City                 3894\n",
       "State                  51\n",
       "Bank                 1399\n",
       "BankState              53\n",
       "RevLineCr               5\n",
       "LowDoc                  8\n",
       "DisbursementGross    3328\n",
       "BalanceGross            1\n",
       "GrAppv               1670\n",
       "SBA_Appv             2425\n",
       "dtype: int64"
      ]
     },
     "execution_count": 362,
     "metadata": {},
     "output_type": "execute_result"
    }
   ],
   "source": [
    "dataset[categorical_features].nunique()\n",
    "    "
   ]
  },
  {
   "cell_type": "code",
   "execution_count": 256,
   "id": "b32977d9",
   "metadata": {},
   "outputs": [
    {
     "ename": "AttributeError",
     "evalue": "'DataFrame' object has no attribute 'IsFranchise'",
     "output_type": "error",
     "traceback": [
      "\u001b[1;31m---------------------------------------------------------------------------\u001b[0m",
      "\u001b[1;31mAttributeError\u001b[0m                            Traceback (most recent call last)",
      "\u001b[1;32m~\\AppData\\Local\\Temp\\ipykernel_33740\\1915143837.py\u001b[0m in \u001b[0;36m<module>\u001b[1;34m\u001b[0m\n\u001b[1;32m----> 1\u001b[1;33m \u001b[0mx\u001b[0m\u001b[1;33m=\u001b[0m\u001b[0mdataset\u001b[0m\u001b[1;33m.\u001b[0m\u001b[0mIsFranchise\u001b[0m\u001b[1;33m.\u001b[0m\u001b[0munique\u001b[0m\u001b[1;33m(\u001b[0m\u001b[1;33m)\u001b[0m\u001b[1;33m\u001b[0m\u001b[1;33m\u001b[0m\u001b[0m\n\u001b[0m\u001b[0;32m      2\u001b[0m \u001b[0mprint\u001b[0m\u001b[1;33m(\u001b[0m\u001b[0mx\u001b[0m\u001b[1;33m)\u001b[0m\u001b[1;33m\u001b[0m\u001b[1;33m\u001b[0m\u001b[0m\n",
      "\u001b[1;32m~\\anaconda3\\lib\\site-packages\\pandas\\core\\generic.py\u001b[0m in \u001b[0;36m__getattr__\u001b[1;34m(self, name)\u001b[0m\n\u001b[0;32m   5573\u001b[0m         ):\n\u001b[0;32m   5574\u001b[0m             \u001b[1;32mreturn\u001b[0m \u001b[0mself\u001b[0m\u001b[1;33m[\u001b[0m\u001b[0mname\u001b[0m\u001b[1;33m]\u001b[0m\u001b[1;33m\u001b[0m\u001b[1;33m\u001b[0m\u001b[0m\n\u001b[1;32m-> 5575\u001b[1;33m         \u001b[1;32mreturn\u001b[0m \u001b[0mobject\u001b[0m\u001b[1;33m.\u001b[0m\u001b[0m__getattribute__\u001b[0m\u001b[1;33m(\u001b[0m\u001b[0mself\u001b[0m\u001b[1;33m,\u001b[0m \u001b[0mname\u001b[0m\u001b[1;33m)\u001b[0m\u001b[1;33m\u001b[0m\u001b[1;33m\u001b[0m\u001b[0m\n\u001b[0m\u001b[0;32m   5576\u001b[0m \u001b[1;33m\u001b[0m\u001b[0m\n\u001b[0;32m   5577\u001b[0m     \u001b[1;32mdef\u001b[0m \u001b[0m__setattr__\u001b[0m\u001b[1;33m(\u001b[0m\u001b[0mself\u001b[0m\u001b[1;33m,\u001b[0m \u001b[0mname\u001b[0m\u001b[1;33m:\u001b[0m \u001b[0mstr\u001b[0m\u001b[1;33m,\u001b[0m \u001b[0mvalue\u001b[0m\u001b[1;33m)\u001b[0m \u001b[1;33m->\u001b[0m \u001b[1;32mNone\u001b[0m\u001b[1;33m:\u001b[0m\u001b[1;33m\u001b[0m\u001b[1;33m\u001b[0m\u001b[0m\n",
      "\u001b[1;31mAttributeError\u001b[0m: 'DataFrame' object has no attribute 'IsFranchise'"
     ]
    }
   ],
   "source": [
    "x=dataset.IsFranchise.unique()\n",
    "print(x)"
   ]
  },
  {
   "cell_type": "code",
   "execution_count": 363,
   "id": "0bfa6786",
   "metadata": {},
   "outputs": [],
   "source": [
    "dataset['LowDoc'] = np.where(dataset['LowDoc'] == 'N', 0, 1)\n"
   ]
  },
  {
   "cell_type": "code",
   "execution_count": 364,
   "id": "69fa3cff",
   "metadata": {},
   "outputs": [],
   "source": [
    "dataset['RevLineCr'] = np.where(dataset['RevLineCr'] == 'N', 0, 1)\n"
   ]
  },
  {
   "cell_type": "code",
   "execution_count": 365,
   "id": "4609b8d6",
   "metadata": {},
   "outputs": [],
   "source": [
    "dataset.loc[(dataset['NewExist'] == 1), 'NewBusiness'] = 0\n",
    "dataset.loc[(dataset['NewExist'] == 2), 'NewBusiness'] = 1"
   ]
  },
  {
   "cell_type": "code",
   "execution_count": 366,
   "id": "f5c8e396",
   "metadata": {},
   "outputs": [],
   "source": [
    "data1= dataset.copy()\n"
   ]
  },
  {
   "cell_type": "code",
   "execution_count": 367,
   "id": "a8d5ab45",
   "metadata": {},
   "outputs": [],
   "source": [
    "dataset.dropna(subset=['NewBusiness'], inplace=True)"
   ]
  },
  {
   "cell_type": "code",
   "execution_count": 368,
   "id": "d3faefb3",
   "metadata": {},
   "outputs": [
    {
     "data": {
      "text/html": [
       "<div>\n",
       "<style scoped>\n",
       "    .dataframe tbody tr th:only-of-type {\n",
       "        vertical-align: middle;\n",
       "    }\n",
       "\n",
       "    .dataframe tbody tr th {\n",
       "        vertical-align: top;\n",
       "    }\n",
       "\n",
       "    .dataframe thead th {\n",
       "        text-align: right;\n",
       "    }\n",
       "</style>\n",
       "<table border=\"1\" class=\"dataframe\">\n",
       "  <thead>\n",
       "    <tr style=\"text-align: right;\">\n",
       "      <th></th>\n",
       "      <th>index</th>\n",
       "      <th>City</th>\n",
       "      <th>State</th>\n",
       "      <th>Zip</th>\n",
       "      <th>Bank</th>\n",
       "      <th>BankState</th>\n",
       "      <th>NAICS</th>\n",
       "      <th>Term</th>\n",
       "      <th>NoEmp</th>\n",
       "      <th>NewExist</th>\n",
       "      <th>CreateJob</th>\n",
       "      <th>RetainedJob</th>\n",
       "      <th>FranchiseCode</th>\n",
       "      <th>UrbanRural</th>\n",
       "      <th>RevLineCr</th>\n",
       "      <th>LowDoc</th>\n",
       "      <th>DisbursementGross</th>\n",
       "      <th>BalanceGross</th>\n",
       "      <th>GrAppv</th>\n",
       "      <th>SBA_Appv</th>\n",
       "      <th>MIS_Status</th>\n",
       "      <th>NewBusiness</th>\n",
       "    </tr>\n",
       "  </thead>\n",
       "  <tbody>\n",
       "    <tr>\n",
       "      <th>0</th>\n",
       "      <td>0</td>\n",
       "      <td>GLEN BURNIE</td>\n",
       "      <td>MD</td>\n",
       "      <td>21060</td>\n",
       "      <td>BUSINESS FINANCE GROUP, INC.</td>\n",
       "      <td>VA</td>\n",
       "      <td>811111</td>\n",
       "      <td>240</td>\n",
       "      <td>7</td>\n",
       "      <td>1.0</td>\n",
       "      <td>6</td>\n",
       "      <td>7</td>\n",
       "      <td>1</td>\n",
       "      <td>1</td>\n",
       "      <td>1</td>\n",
       "      <td>0</td>\n",
       "      <td>743000.00</td>\n",
       "      <td>0.00</td>\n",
       "      <td>743000.00</td>\n",
       "      <td>743000.00</td>\n",
       "      <td>0</td>\n",
       "      <td>0.0</td>\n",
       "    </tr>\n",
       "    <tr>\n",
       "      <th>1</th>\n",
       "      <td>1</td>\n",
       "      <td>WEST BEND</td>\n",
       "      <td>WI</td>\n",
       "      <td>53095</td>\n",
       "      <td>JPMORGAN CHASE BANK NATL ASSOC</td>\n",
       "      <td>IL</td>\n",
       "      <td>722410</td>\n",
       "      <td>240</td>\n",
       "      <td>20</td>\n",
       "      <td>1.0</td>\n",
       "      <td>0</td>\n",
       "      <td>0</td>\n",
       "      <td>1</td>\n",
       "      <td>0</td>\n",
       "      <td>0</td>\n",
       "      <td>0</td>\n",
       "      <td>137000.00</td>\n",
       "      <td>0.00</td>\n",
       "      <td>137000.00</td>\n",
       "      <td>109737.00</td>\n",
       "      <td>0</td>\n",
       "      <td>0.0</td>\n",
       "    </tr>\n",
       "    <tr>\n",
       "      <th>2</th>\n",
       "      <td>2</td>\n",
       "      <td>SAN DIEGO</td>\n",
       "      <td>CA</td>\n",
       "      <td>92128</td>\n",
       "      <td>UMPQUA BANK</td>\n",
       "      <td>OR</td>\n",
       "      <td>0</td>\n",
       "      <td>120</td>\n",
       "      <td>2</td>\n",
       "      <td>1.0</td>\n",
       "      <td>0</td>\n",
       "      <td>0</td>\n",
       "      <td>1</td>\n",
       "      <td>0</td>\n",
       "      <td>1</td>\n",
       "      <td>0</td>\n",
       "      <td>280000.00</td>\n",
       "      <td>0.00</td>\n",
       "      <td>280000.00</td>\n",
       "      <td>210000.00</td>\n",
       "      <td>0</td>\n",
       "      <td>0.0</td>\n",
       "    </tr>\n",
       "    <tr>\n",
       "      <th>3</th>\n",
       "      <td>3</td>\n",
       "      <td>WEBSTER</td>\n",
       "      <td>MA</td>\n",
       "      <td>1570</td>\n",
       "      <td>HOMETOWN BANK A CO-OPERATIVE B</td>\n",
       "      <td>MA</td>\n",
       "      <td>621310</td>\n",
       "      <td>84</td>\n",
       "      <td>7</td>\n",
       "      <td>1.0</td>\n",
       "      <td>0</td>\n",
       "      <td>0</td>\n",
       "      <td>1</td>\n",
       "      <td>1</td>\n",
       "      <td>1</td>\n",
       "      <td>1</td>\n",
       "      <td>144500.00</td>\n",
       "      <td>0.00</td>\n",
       "      <td>144500.00</td>\n",
       "      <td>122825.00</td>\n",
       "      <td>0</td>\n",
       "      <td>0.0</td>\n",
       "    </tr>\n",
       "    <tr>\n",
       "      <th>4</th>\n",
       "      <td>4</td>\n",
       "      <td>JOPLIN</td>\n",
       "      <td>MO</td>\n",
       "      <td>64804</td>\n",
       "      <td>U.S. BANK NATIONAL ASSOCIATION</td>\n",
       "      <td>OH</td>\n",
       "      <td>0</td>\n",
       "      <td>60</td>\n",
       "      <td>2</td>\n",
       "      <td>2.0</td>\n",
       "      <td>0</td>\n",
       "      <td>0</td>\n",
       "      <td>1</td>\n",
       "      <td>0</td>\n",
       "      <td>0</td>\n",
       "      <td>1</td>\n",
       "      <td>52500.00</td>\n",
       "      <td>0.00</td>\n",
       "      <td>52500.00</td>\n",
       "      <td>42000.00</td>\n",
       "      <td>0</td>\n",
       "      <td>1.0</td>\n",
       "    </tr>\n",
       "  </tbody>\n",
       "</table>\n",
       "</div>"
      ],
      "text/plain": [
       "   index         City State    Zip                            Bank BankState  \\\n",
       "0      0  GLEN BURNIE    MD  21060    BUSINESS FINANCE GROUP, INC.        VA   \n",
       "1      1    WEST BEND    WI  53095  JPMORGAN CHASE BANK NATL ASSOC        IL   \n",
       "2      2    SAN DIEGO    CA  92128                     UMPQUA BANK        OR   \n",
       "3      3      WEBSTER    MA   1570  HOMETOWN BANK A CO-OPERATIVE B        MA   \n",
       "4      4       JOPLIN    MO  64804  U.S. BANK NATIONAL ASSOCIATION        OH   \n",
       "\n",
       "    NAICS  Term  NoEmp  NewExist  CreateJob  RetainedJob  FranchiseCode  \\\n",
       "0  811111   240      7       1.0          6            7              1   \n",
       "1  722410   240     20       1.0          0            0              1   \n",
       "2       0   120      2       1.0          0            0              1   \n",
       "3  621310    84      7       1.0          0            0              1   \n",
       "4       0    60      2       2.0          0            0              1   \n",
       "\n",
       "   UrbanRural  RevLineCr  LowDoc DisbursementGross BalanceGross     GrAppv  \\\n",
       "0           1          1       0         743000.00         0.00  743000.00   \n",
       "1           0          0       0         137000.00         0.00  137000.00   \n",
       "2           0          1       0         280000.00         0.00  280000.00   \n",
       "3           1          1       1         144500.00         0.00  144500.00   \n",
       "4           0          0       1          52500.00         0.00   52500.00   \n",
       "\n",
       "    SBA_Appv  MIS_Status  NewBusiness  \n",
       "0  743000.00           0          0.0  \n",
       "1  109737.00           0          0.0  \n",
       "2  210000.00           0          0.0  \n",
       "3  122825.00           0          0.0  \n",
       "4   42000.00           0          1.0  "
      ]
     },
     "execution_count": 368,
     "metadata": {},
     "output_type": "execute_result"
    }
   ],
   "source": [
    "data1.head()"
   ]
  },
  {
   "cell_type": "code",
   "execution_count": 369,
   "id": "b32816b6",
   "metadata": {},
   "outputs": [],
   "source": [
    "dataset['Same_State'] = np.where(dataset['State'] == dataset['BankState'],1,0)"
   ]
  },
  {
   "cell_type": "code",
   "execution_count": 370,
   "id": "53f2d5eb",
   "metadata": {},
   "outputs": [],
   "source": [
    "dataset['IsFranchise'] = np.where(dataset['FranchiseCode']>=1, 1, 0)"
   ]
  },
  {
   "cell_type": "code",
   "execution_count": 371,
   "id": "d6cfbcc0",
   "metadata": {},
   "outputs": [],
   "source": [
    "dataset['AppvDisbursed'] = np.where(dataset['DisbursementGross'] == dataset['GrAppv'], 1, 0)"
   ]
  },
  {
   "cell_type": "code",
   "execution_count": 372,
   "id": "6e06afe3",
   "metadata": {},
   "outputs": [],
   "source": [
    "dataset = dataset.astype({ 'DisbursementGross': 'float', 'BalanceGross': 'float', 'GrAppv': 'float', 'SBA_Appv': 'float', 'NewBusiness': 'int64'})"
   ]
  },
  {
   "cell_type": "code",
   "execution_count": null,
   "id": "5c9050fd",
   "metadata": {},
   "outputs": [],
   "source": []
  },
  {
   "cell_type": "code",
   "execution_count": 373,
   "id": "ff0fa7ee",
   "metadata": {},
   "outputs": [
    {
     "data": {
      "text/html": [
       "<div>\n",
       "<style scoped>\n",
       "    .dataframe tbody tr th:only-of-type {\n",
       "        vertical-align: middle;\n",
       "    }\n",
       "\n",
       "    .dataframe tbody tr th {\n",
       "        vertical-align: top;\n",
       "    }\n",
       "\n",
       "    .dataframe thead th {\n",
       "        text-align: right;\n",
       "    }\n",
       "</style>\n",
       "<table border=\"1\" class=\"dataframe\">\n",
       "  <thead>\n",
       "    <tr style=\"text-align: right;\">\n",
       "      <th></th>\n",
       "      <th>index</th>\n",
       "      <th>City</th>\n",
       "      <th>State</th>\n",
       "      <th>Zip</th>\n",
       "      <th>Bank</th>\n",
       "      <th>BankState</th>\n",
       "      <th>NAICS</th>\n",
       "      <th>Term</th>\n",
       "      <th>NoEmp</th>\n",
       "      <th>NewExist</th>\n",
       "      <th>CreateJob</th>\n",
       "      <th>RetainedJob</th>\n",
       "      <th>FranchiseCode</th>\n",
       "      <th>UrbanRural</th>\n",
       "      <th>RevLineCr</th>\n",
       "      <th>LowDoc</th>\n",
       "      <th>DisbursementGross</th>\n",
       "      <th>BalanceGross</th>\n",
       "      <th>GrAppv</th>\n",
       "      <th>SBA_Appv</th>\n",
       "      <th>MIS_Status</th>\n",
       "      <th>NewBusiness</th>\n",
       "      <th>Same_State</th>\n",
       "      <th>IsFranchise</th>\n",
       "      <th>AppvDisbursed</th>\n",
       "    </tr>\n",
       "  </thead>\n",
       "  <tbody>\n",
       "    <tr>\n",
       "      <th>0</th>\n",
       "      <td>0</td>\n",
       "      <td>GLEN BURNIE</td>\n",
       "      <td>MD</td>\n",
       "      <td>21060</td>\n",
       "      <td>BUSINESS FINANCE GROUP, INC.</td>\n",
       "      <td>VA</td>\n",
       "      <td>811111</td>\n",
       "      <td>240</td>\n",
       "      <td>7</td>\n",
       "      <td>1.0</td>\n",
       "      <td>6</td>\n",
       "      <td>7</td>\n",
       "      <td>1</td>\n",
       "      <td>1</td>\n",
       "      <td>1</td>\n",
       "      <td>0</td>\n",
       "      <td>743000.0</td>\n",
       "      <td>0.0</td>\n",
       "      <td>743000.0</td>\n",
       "      <td>743000.0</td>\n",
       "      <td>0</td>\n",
       "      <td>0</td>\n",
       "      <td>0</td>\n",
       "      <td>1</td>\n",
       "      <td>1</td>\n",
       "    </tr>\n",
       "    <tr>\n",
       "      <th>1</th>\n",
       "      <td>1</td>\n",
       "      <td>WEST BEND</td>\n",
       "      <td>WI</td>\n",
       "      <td>53095</td>\n",
       "      <td>JPMORGAN CHASE BANK NATL ASSOC</td>\n",
       "      <td>IL</td>\n",
       "      <td>722410</td>\n",
       "      <td>240</td>\n",
       "      <td>20</td>\n",
       "      <td>1.0</td>\n",
       "      <td>0</td>\n",
       "      <td>0</td>\n",
       "      <td>1</td>\n",
       "      <td>0</td>\n",
       "      <td>0</td>\n",
       "      <td>0</td>\n",
       "      <td>137000.0</td>\n",
       "      <td>0.0</td>\n",
       "      <td>137000.0</td>\n",
       "      <td>109737.0</td>\n",
       "      <td>0</td>\n",
       "      <td>0</td>\n",
       "      <td>0</td>\n",
       "      <td>1</td>\n",
       "      <td>1</td>\n",
       "    </tr>\n",
       "    <tr>\n",
       "      <th>2</th>\n",
       "      <td>2</td>\n",
       "      <td>SAN DIEGO</td>\n",
       "      <td>CA</td>\n",
       "      <td>92128</td>\n",
       "      <td>UMPQUA BANK</td>\n",
       "      <td>OR</td>\n",
       "      <td>0</td>\n",
       "      <td>120</td>\n",
       "      <td>2</td>\n",
       "      <td>1.0</td>\n",
       "      <td>0</td>\n",
       "      <td>0</td>\n",
       "      <td>1</td>\n",
       "      <td>0</td>\n",
       "      <td>1</td>\n",
       "      <td>0</td>\n",
       "      <td>280000.0</td>\n",
       "      <td>0.0</td>\n",
       "      <td>280000.0</td>\n",
       "      <td>210000.0</td>\n",
       "      <td>0</td>\n",
       "      <td>0</td>\n",
       "      <td>0</td>\n",
       "      <td>1</td>\n",
       "      <td>1</td>\n",
       "    </tr>\n",
       "    <tr>\n",
       "      <th>3</th>\n",
       "      <td>3</td>\n",
       "      <td>WEBSTER</td>\n",
       "      <td>MA</td>\n",
       "      <td>1570</td>\n",
       "      <td>HOMETOWN BANK A CO-OPERATIVE B</td>\n",
       "      <td>MA</td>\n",
       "      <td>621310</td>\n",
       "      <td>84</td>\n",
       "      <td>7</td>\n",
       "      <td>1.0</td>\n",
       "      <td>0</td>\n",
       "      <td>0</td>\n",
       "      <td>1</td>\n",
       "      <td>1</td>\n",
       "      <td>1</td>\n",
       "      <td>1</td>\n",
       "      <td>144500.0</td>\n",
       "      <td>0.0</td>\n",
       "      <td>144500.0</td>\n",
       "      <td>122825.0</td>\n",
       "      <td>0</td>\n",
       "      <td>0</td>\n",
       "      <td>1</td>\n",
       "      <td>1</td>\n",
       "      <td>1</td>\n",
       "    </tr>\n",
       "    <tr>\n",
       "      <th>4</th>\n",
       "      <td>4</td>\n",
       "      <td>JOPLIN</td>\n",
       "      <td>MO</td>\n",
       "      <td>64804</td>\n",
       "      <td>U.S. BANK NATIONAL ASSOCIATION</td>\n",
       "      <td>OH</td>\n",
       "      <td>0</td>\n",
       "      <td>60</td>\n",
       "      <td>2</td>\n",
       "      <td>2.0</td>\n",
       "      <td>0</td>\n",
       "      <td>0</td>\n",
       "      <td>1</td>\n",
       "      <td>0</td>\n",
       "      <td>0</td>\n",
       "      <td>1</td>\n",
       "      <td>52500.0</td>\n",
       "      <td>0.0</td>\n",
       "      <td>52500.0</td>\n",
       "      <td>42000.0</td>\n",
       "      <td>0</td>\n",
       "      <td>1</td>\n",
       "      <td>0</td>\n",
       "      <td>1</td>\n",
       "      <td>1</td>\n",
       "    </tr>\n",
       "  </tbody>\n",
       "</table>\n",
       "</div>"
      ],
      "text/plain": [
       "   index         City State    Zip                            Bank BankState  \\\n",
       "0      0  GLEN BURNIE    MD  21060    BUSINESS FINANCE GROUP, INC.        VA   \n",
       "1      1    WEST BEND    WI  53095  JPMORGAN CHASE BANK NATL ASSOC        IL   \n",
       "2      2    SAN DIEGO    CA  92128                     UMPQUA BANK        OR   \n",
       "3      3      WEBSTER    MA   1570  HOMETOWN BANK A CO-OPERATIVE B        MA   \n",
       "4      4       JOPLIN    MO  64804  U.S. BANK NATIONAL ASSOCIATION        OH   \n",
       "\n",
       "    NAICS  Term  NoEmp  NewExist  CreateJob  RetainedJob  FranchiseCode  \\\n",
       "0  811111   240      7       1.0          6            7              1   \n",
       "1  722410   240     20       1.0          0            0              1   \n",
       "2       0   120      2       1.0          0            0              1   \n",
       "3  621310    84      7       1.0          0            0              1   \n",
       "4       0    60      2       2.0          0            0              1   \n",
       "\n",
       "   UrbanRural  RevLineCr  LowDoc  DisbursementGross  BalanceGross    GrAppv  \\\n",
       "0           1          1       0           743000.0           0.0  743000.0   \n",
       "1           0          0       0           137000.0           0.0  137000.0   \n",
       "2           0          1       0           280000.0           0.0  280000.0   \n",
       "3           1          1       1           144500.0           0.0  144500.0   \n",
       "4           0          0       1            52500.0           0.0   52500.0   \n",
       "\n",
       "   SBA_Appv  MIS_Status  NewBusiness  Same_State  IsFranchise  AppvDisbursed  \n",
       "0  743000.0           0            0           0            1              1  \n",
       "1  109737.0           0            0           0            1              1  \n",
       "2  210000.0           0            0           0            1              1  \n",
       "3  122825.0           0            0           1            1              1  \n",
       "4   42000.0           0            1           0            1              1  "
      ]
     },
     "execution_count": 373,
     "metadata": {},
     "output_type": "execute_result"
    }
   ],
   "source": [
    "dataset.head()"
   ]
  },
  {
   "cell_type": "code",
   "execution_count": 374,
   "id": "6cbabbf4",
   "metadata": {
    "scrolled": true
   },
   "outputs": [],
   "source": [
    "dataset.drop(columns=['index', 'Bank', 'City', 'Zip', 'NAICS','SBA_Appv'], inplace=True)"
   ]
  },
  {
   "cell_type": "code",
   "execution_count": 375,
   "id": "1246c77b",
   "metadata": {},
   "outputs": [],
   "source": [
    "dataset.drop(columns=['BalanceGross'], inplace=True)"
   ]
  },
  {
   "cell_type": "code",
   "execution_count": 376,
   "id": "b8e6de45",
   "metadata": {},
   "outputs": [],
   "source": [
    "dataset.drop(columns=['NewExist'], inplace=True)"
   ]
  },
  {
   "cell_type": "code",
   "execution_count": 377,
   "id": "de4b824c",
   "metadata": {
    "scrolled": true
   },
   "outputs": [
    {
     "data": {
      "text/html": [
       "<div>\n",
       "<style scoped>\n",
       "    .dataframe tbody tr th:only-of-type {\n",
       "        vertical-align: middle;\n",
       "    }\n",
       "\n",
       "    .dataframe tbody tr th {\n",
       "        vertical-align: top;\n",
       "    }\n",
       "\n",
       "    .dataframe thead th {\n",
       "        text-align: right;\n",
       "    }\n",
       "</style>\n",
       "<table border=\"1\" class=\"dataframe\">\n",
       "  <thead>\n",
       "    <tr style=\"text-align: right;\">\n",
       "      <th></th>\n",
       "      <th>State</th>\n",
       "      <th>BankState</th>\n",
       "      <th>Term</th>\n",
       "      <th>NoEmp</th>\n",
       "      <th>CreateJob</th>\n",
       "      <th>RetainedJob</th>\n",
       "      <th>FranchiseCode</th>\n",
       "      <th>UrbanRural</th>\n",
       "      <th>RevLineCr</th>\n",
       "      <th>LowDoc</th>\n",
       "      <th>DisbursementGross</th>\n",
       "      <th>GrAppv</th>\n",
       "      <th>MIS_Status</th>\n",
       "      <th>NewBusiness</th>\n",
       "      <th>Same_State</th>\n",
       "      <th>IsFranchise</th>\n",
       "      <th>AppvDisbursed</th>\n",
       "    </tr>\n",
       "  </thead>\n",
       "  <tbody>\n",
       "    <tr>\n",
       "      <th>0</th>\n",
       "      <td>MD</td>\n",
       "      <td>VA</td>\n",
       "      <td>240</td>\n",
       "      <td>7</td>\n",
       "      <td>6</td>\n",
       "      <td>7</td>\n",
       "      <td>1</td>\n",
       "      <td>1</td>\n",
       "      <td>1</td>\n",
       "      <td>0</td>\n",
       "      <td>743000.0</td>\n",
       "      <td>743000.0</td>\n",
       "      <td>0</td>\n",
       "      <td>0</td>\n",
       "      <td>0</td>\n",
       "      <td>1</td>\n",
       "      <td>1</td>\n",
       "    </tr>\n",
       "    <tr>\n",
       "      <th>1</th>\n",
       "      <td>WI</td>\n",
       "      <td>IL</td>\n",
       "      <td>240</td>\n",
       "      <td>20</td>\n",
       "      <td>0</td>\n",
       "      <td>0</td>\n",
       "      <td>1</td>\n",
       "      <td>0</td>\n",
       "      <td>0</td>\n",
       "      <td>0</td>\n",
       "      <td>137000.0</td>\n",
       "      <td>137000.0</td>\n",
       "      <td>0</td>\n",
       "      <td>0</td>\n",
       "      <td>0</td>\n",
       "      <td>1</td>\n",
       "      <td>1</td>\n",
       "    </tr>\n",
       "    <tr>\n",
       "      <th>2</th>\n",
       "      <td>CA</td>\n",
       "      <td>OR</td>\n",
       "      <td>120</td>\n",
       "      <td>2</td>\n",
       "      <td>0</td>\n",
       "      <td>0</td>\n",
       "      <td>1</td>\n",
       "      <td>0</td>\n",
       "      <td>1</td>\n",
       "      <td>0</td>\n",
       "      <td>280000.0</td>\n",
       "      <td>280000.0</td>\n",
       "      <td>0</td>\n",
       "      <td>0</td>\n",
       "      <td>0</td>\n",
       "      <td>1</td>\n",
       "      <td>1</td>\n",
       "    </tr>\n",
       "    <tr>\n",
       "      <th>3</th>\n",
       "      <td>MA</td>\n",
       "      <td>MA</td>\n",
       "      <td>84</td>\n",
       "      <td>7</td>\n",
       "      <td>0</td>\n",
       "      <td>0</td>\n",
       "      <td>1</td>\n",
       "      <td>1</td>\n",
       "      <td>1</td>\n",
       "      <td>1</td>\n",
       "      <td>144500.0</td>\n",
       "      <td>144500.0</td>\n",
       "      <td>0</td>\n",
       "      <td>0</td>\n",
       "      <td>1</td>\n",
       "      <td>1</td>\n",
       "      <td>1</td>\n",
       "    </tr>\n",
       "    <tr>\n",
       "      <th>4</th>\n",
       "      <td>MO</td>\n",
       "      <td>OH</td>\n",
       "      <td>60</td>\n",
       "      <td>2</td>\n",
       "      <td>0</td>\n",
       "      <td>0</td>\n",
       "      <td>1</td>\n",
       "      <td>0</td>\n",
       "      <td>0</td>\n",
       "      <td>1</td>\n",
       "      <td>52500.0</td>\n",
       "      <td>52500.0</td>\n",
       "      <td>0</td>\n",
       "      <td>1</td>\n",
       "      <td>0</td>\n",
       "      <td>1</td>\n",
       "      <td>1</td>\n",
       "    </tr>\n",
       "  </tbody>\n",
       "</table>\n",
       "</div>"
      ],
      "text/plain": [
       "  State BankState  Term  NoEmp  CreateJob  RetainedJob  FranchiseCode  \\\n",
       "0    MD        VA   240      7          6            7              1   \n",
       "1    WI        IL   240     20          0            0              1   \n",
       "2    CA        OR   120      2          0            0              1   \n",
       "3    MA        MA    84      7          0            0              1   \n",
       "4    MO        OH    60      2          0            0              1   \n",
       "\n",
       "   UrbanRural  RevLineCr  LowDoc  DisbursementGross    GrAppv  MIS_Status  \\\n",
       "0           1          1       0           743000.0  743000.0           0   \n",
       "1           0          0       0           137000.0  137000.0           0   \n",
       "2           0          1       0           280000.0  280000.0           0   \n",
       "3           1          1       1           144500.0  144500.0           0   \n",
       "4           0          0       1            52500.0   52500.0           0   \n",
       "\n",
       "   NewBusiness  Same_State  IsFranchise  AppvDisbursed  \n",
       "0            0           0            1              1  \n",
       "1            0           0            1              1  \n",
       "2            0           0            1              1  \n",
       "3            0           1            1              1  \n",
       "4            1           0            1              1  "
      ]
     },
     "execution_count": 377,
     "metadata": {},
     "output_type": "execute_result"
    }
   ],
   "source": [
    "dataset.head()"
   ]
  },
  {
   "cell_type": "code",
   "execution_count": 378,
   "id": "e970c1cd",
   "metadata": {},
   "outputs": [
    {
     "data": {
      "text/plain": [
       "State                0\n",
       "BankState            0\n",
       "Term                 0\n",
       "NoEmp                0\n",
       "CreateJob            0\n",
       "RetainedJob          0\n",
       "FranchiseCode        0\n",
       "UrbanRural           0\n",
       "RevLineCr            0\n",
       "LowDoc               0\n",
       "DisbursementGross    0\n",
       "GrAppv               0\n",
       "MIS_Status           0\n",
       "NewBusiness          0\n",
       "Same_State           0\n",
       "IsFranchise          0\n",
       "AppvDisbursed        0\n",
       "dtype: int64"
      ]
     },
     "execution_count": 378,
     "metadata": {},
     "output_type": "execute_result"
    }
   ],
   "source": [
    "dataset.isnull().sum()"
   ]
  },
  {
   "cell_type": "code",
   "execution_count": 379,
   "id": "ca897894",
   "metadata": {},
   "outputs": [
    {
     "name": "stdout",
     "output_type": "stream",
     "text": [
      "<class 'pandas.core.frame.DataFrame'>\n",
      "Int64Index: 9974 entries, 0 to 9999\n",
      "Data columns (total 17 columns):\n",
      " #   Column             Non-Null Count  Dtype  \n",
      "---  ------             --------------  -----  \n",
      " 0   State              9974 non-null   object \n",
      " 1   BankState          9974 non-null   object \n",
      " 2   Term               9974 non-null   int64  \n",
      " 3   NoEmp              9974 non-null   int64  \n",
      " 4   CreateJob          9974 non-null   int64  \n",
      " 5   RetainedJob        9974 non-null   int64  \n",
      " 6   FranchiseCode      9974 non-null   int64  \n",
      " 7   UrbanRural         9974 non-null   int64  \n",
      " 8   RevLineCr          9974 non-null   int32  \n",
      " 9   LowDoc             9974 non-null   int32  \n",
      " 10  DisbursementGross  9974 non-null   float64\n",
      " 11  GrAppv             9974 non-null   float64\n",
      " 12  MIS_Status         9974 non-null   int64  \n",
      " 13  NewBusiness        9974 non-null   int64  \n",
      " 14  Same_State         9974 non-null   int32  \n",
      " 15  IsFranchise        9974 non-null   int32  \n",
      " 16  AppvDisbursed      9974 non-null   int32  \n",
      "dtypes: float64(2), int32(5), int64(8), object(2)\n",
      "memory usage: 1.2+ MB\n"
     ]
    }
   ],
   "source": [
    "dataset.info()"
   ]
  },
  {
   "cell_type": "code",
   "execution_count": 329,
   "id": "7084655e",
   "metadata": {},
   "outputs": [
    {
     "data": {
      "image/png": "[encoded data removed]",
      "text/plain": [
       "<Figure size 1500x1000 with 2 Axes>"
      ]
     },
     "metadata": {},
     "output_type": "display_data"
    }
   ],
   "source": [
    "# Correlation Matrix\n",
    "cor_fig, cor_ax = plt.subplots(figsize=(15, 10))\n",
    "corr_matrix = dataset.corr()\n",
    "cor_ax = sns.heatmap(corr_matrix, annot=True)\n",
    "plt.xticks(rotation=30, horizontalalignment='right', fontsize=8)\n",
    "plt.yticks(fontsize=8)\n",
    "\n",
    "plt.show()"
   ]
  },
  {
   "cell_type": "code",
   "execution_count": 381,
   "id": "925e6013",
   "metadata": {},
   "outputs": [],
   "source": [
    "datanew=dataset.copy()"
   ]
  },
  {
   "cell_type": "code",
   "execution_count": 382,
   "id": "4fef1d2e",
   "metadata": {},
   "outputs": [
    {
     "name": "stdout",
     "output_type": "stream",
     "text": [
      "<class 'pandas.core.frame.DataFrame'>\n",
      "Int64Index: 9974 entries, 0 to 9999\n",
      "Data columns (total 17 columns):\n",
      " #   Column             Non-Null Count  Dtype  \n",
      "---  ------             --------------  -----  \n",
      " 0   State              9974 non-null   object \n",
      " 1   BankState          9974 non-null   object \n",
      " 2   Term               9974 non-null   int64  \n",
      " 3   NoEmp              9974 non-null   int64  \n",
      " 4   CreateJob          9974 non-null   int64  \n",
      " 5   RetainedJob        9974 non-null   int64  \n",
      " 6   FranchiseCode      9974 non-null   int64  \n",
      " 7   UrbanRural         9974 non-null   int64  \n",
      " 8   RevLineCr          9974 non-null   int32  \n",
      " 9   LowDoc             9974 non-null   int32  \n",
      " 10  DisbursementGross  9974 non-null   float64\n",
      " 11  GrAppv             9974 non-null   float64\n",
      " 12  MIS_Status         9974 non-null   int64  \n",
      " 13  NewBusiness        9974 non-null   int64  \n",
      " 14  Same_State         9974 non-null   int32  \n",
      " 15  IsFranchise        9974 non-null   int32  \n",
      " 16  AppvDisbursed      9974 non-null   int32  \n",
      "dtypes: float64(2), int32(5), int64(8), object(2)\n",
      "memory usage: 1.2+ MB\n"
     ]
    }
   ],
   "source": [
    "datanew.info()"
   ]
  },
  {
   "cell_type": "markdown",
   "id": "7bb0bfa4",
   "metadata": {},
   "source": [
    "# Model Training\n",
    "\n",
    "See Project summary for types of models"
   ]
  },
  {
   "cell_type": "code",
   "execution_count": 383,
   "id": "9afc43be",
   "metadata": {
    "scrolled": true
   },
   "outputs": [
    {
     "data": {
      "text/plain": [
       "array([[ 1.62665257, -0.10121266, -0.012327  , ..., -1.03593709,\n",
       "         0.54931675,  0.56276076],\n",
       "       [ 1.62665257,  0.23827142, -0.03640405, ..., -1.03593709,\n",
       "         0.54931675,  0.56276076],\n",
       "       [ 0.11703192, -0.23178347, -0.03640405, ..., -1.03593709,\n",
       "         0.54931675,  0.56276076],\n",
       "       ...,\n",
       "       [-0.33585427, -0.23178347, -0.03640405, ...,  0.96530958,\n",
       "         0.54931675,  0.56276076],\n",
       "       [-0.91454218,  0.00324398, -0.02837836, ..., -1.03593709,\n",
       "        -1.82044331,  0.56276076],\n",
       "       [ 1.62665257,  0.02935814, -0.012327  , ...,  0.96530958,\n",
       "         0.54931675,  0.56276076]])"
      ]
     },
     "execution_count": 383,
     "metadata": {},
     "output_type": "execute_result"
    }
   ],
   "source": [
    "feature_scale=[feature for feature in dataset.columns if feature not in ['MIS_Status','State','BankState']]\n",
    "\n",
    "from sklearn.preprocessing import StandardScaler\n",
    "scaler=StandardScaler()\n",
    "scaler.fit_transform(dataset[feature_scale])"
   ]
  },
  {
   "cell_type": "code",
   "execution_count": 333,
   "id": "2f06eec9",
   "metadata": {},
   "outputs": [],
   "source": []
  },
  {
   "cell_type": "code",
   "execution_count": 384,
   "id": "cf020eb5",
   "metadata": {
    "scrolled": true
   },
   "outputs": [
    {
     "data": {
      "text/plain": [
       "['Term',\n",
       " 'NoEmp',\n",
       " 'CreateJob',\n",
       " 'RetainedJob',\n",
       " 'FranchiseCode',\n",
       " 'UrbanRural',\n",
       " 'RevLineCr',\n",
       " 'LowDoc',\n",
       " 'DisbursementGross',\n",
       " 'GrAppv',\n",
       " 'NewBusiness',\n",
       " 'Same_State',\n",
       " 'IsFranchise',\n",
       " 'AppvDisbursed']"
      ]
     },
     "execution_count": 384,
     "metadata": {},
     "output_type": "execute_result"
    }
   ],
   "source": [
    "feature_scale"
   ]
  },
  {
   "cell_type": "code",
   "execution_count": 385,
   "id": "b7f128fc",
   "metadata": {},
   "outputs": [],
   "source": [
    " dataset_scaled=pd.DataFrame(scaler.fit_transform(dataset[feature_scale]), columns=feature_scale)"
   ]
  },
  {
   "cell_type": "code",
   "execution_count": 386,
   "id": "89006d7e",
   "metadata": {},
   "outputs": [
    {
     "name": "stdout",
     "output_type": "stream",
     "text": [
      "<class 'pandas.core.frame.DataFrame'>\n",
      "RangeIndex: 9974 entries, 0 to 9973\n",
      "Data columns (total 14 columns):\n",
      " #   Column             Non-Null Count  Dtype  \n",
      "---  ------             --------------  -----  \n",
      " 0   Term               9974 non-null   float64\n",
      " 1   NoEmp              9974 non-null   float64\n",
      " 2   CreateJob          9974 non-null   float64\n",
      " 3   RetainedJob        9974 non-null   float64\n",
      " 4   FranchiseCode      9974 non-null   float64\n",
      " 5   UrbanRural         9974 non-null   float64\n",
      " 6   RevLineCr          9974 non-null   float64\n",
      " 7   LowDoc             9974 non-null   float64\n",
      " 8   DisbursementGross  9974 non-null   float64\n",
      " 9   GrAppv             9974 non-null   float64\n",
      " 10  NewBusiness        9974 non-null   float64\n",
      " 11  Same_State         9974 non-null   float64\n",
      " 12  IsFranchise        9974 non-null   float64\n",
      " 13  AppvDisbursed      9974 non-null   float64\n",
      "dtypes: float64(14)\n",
      "memory usage: 1.1 MB\n"
     ]
    }
   ],
   "source": [
    "dataset_scaled.info()"
   ]
  },
  {
   "cell_type": "code",
   "execution_count": 388,
   "id": "265acf5d",
   "metadata": {
    "scrolled": true
   },
   "outputs": [],
   "source": [
    "X = dataset_scaled"
   ]
  },
  {
   "cell_type": "code",
   "execution_count": 387,
   "id": "1d4f1299",
   "metadata": {},
   "outputs": [],
   "source": [
    "y = dataset[\"MIS_Status\"]"
   ]
  },
  {
   "cell_type": "code",
   "execution_count": 283,
   "id": "7058d823",
   "metadata": {},
   "outputs": [
    {
     "name": "stdout",
     "output_type": "stream",
     "text": [
      "<class 'pandas.core.frame.DataFrame'>\n",
      "Int64Index: 9982 entries, 0 to 9999\n",
      "Data columns (total 21 columns):\n",
      " #   Column             Non-Null Count  Dtype  \n",
      "---  ------             --------------  -----  \n",
      " 0   index              9982 non-null   int64  \n",
      " 1   City               9982 non-null   object \n",
      " 2   State              9982 non-null   object \n",
      " 3   Zip                9982 non-null   int64  \n",
      " 4   Bank               9982 non-null   object \n",
      " 5   BankState          9982 non-null   object \n",
      " 6   NAICS              9982 non-null   int64  \n",
      " 7   Term               9982 non-null   int64  \n",
      " 8   NoEmp              9982 non-null   int64  \n",
      " 9   NewExist           9981 non-null   float64\n",
      " 10  CreateJob          9982 non-null   int64  \n",
      " 11  RetainedJob        9982 non-null   int64  \n",
      " 12  FranchiseCode      9982 non-null   int64  \n",
      " 13  UrbanRural         9982 non-null   int64  \n",
      " 14  RevLineCr          9982 non-null   object \n",
      " 15  LowDoc             9982 non-null   object \n",
      " 16  DisbursementGross  9982 non-null   object \n",
      " 17  BalanceGross       9982 non-null   object \n",
      " 18  GrAppv             9982 non-null   object \n",
      " 19  SBA_Appv           9982 non-null   object \n",
      " 20  MIS_Status         9982 non-null   int64  \n",
      "dtypes: float64(1), int64(10), object(10)\n",
      "memory usage: 1.7+ MB\n"
     ]
    }
   ],
   "source": [
    "datanew.info()"
   ]
  },
  {
   "cell_type": "code",
   "execution_count": 389,
   "id": "01365ff3",
   "metadata": {},
   "outputs": [],
   "source": [
    "from sklearn.model_selection import train_test_split\n"
   ]
  },
  {
   "cell_type": "code",
   "execution_count": 390,
   "id": "082e5810",
   "metadata": {},
   "outputs": [],
   "source": [
    "X_train, X_test, y_train, y_test = train_test_split(X, y, test_size=0.20)"
   ]
  },
  {
   "cell_type": "code",
   "execution_count": 391,
   "id": "dffff9d6",
   "metadata": {},
   "outputs": [],
   "source": [
    "from sklearn.linear_model import LogisticRegression\n"
   ]
  },
  {
   "cell_type": "code",
   "execution_count": 392,
   "id": "3070f01e",
   "metadata": {},
   "outputs": [
    {
     "name": "stdout",
     "output_type": "stream",
     "text": [
      "          Term     NoEmp  CreateJob  RetainedJob  FranchiseCode  UrbanRural  \\\n",
      "5433 -0.562297 -0.205669  -0.036404    -0.046755      -0.216549   -1.185027   \n",
      "5635  0.356055  1.021696  -0.036404    -0.046755      -0.216549   -1.185027   \n",
      "2428  1.626653 -0.127327  -0.036404    -0.046755      -0.216549   -1.185027   \n",
      "5394 -1.241627  0.159929  -0.036404    -0.046755      -0.216549   -1.185027   \n",
      "7930  1.626653  0.629984  -0.036404     0.032210      -0.216549   -1.185027   \n",
      "...        ...       ...        ...          ...            ...         ...   \n",
      "5787  1.626653  1.021696   0.003724    -0.046755      -0.216549    0.372830   \n",
      "1262  1.626653 -0.022870  -0.036404    -0.007273      -0.216549   -1.185027   \n",
      "5906  1.626653  0.499413   0.007737     0.028261      -0.216549   -1.185027   \n",
      "8315 -0.260373 -0.127327  -0.036404    -0.046755      -0.216549    0.372830   \n",
      "9470 -0.335854 -0.257898  -0.036404    -0.042807      -0.216549    0.372830   \n",
      "\n",
      "      RevLineCr    LowDoc  DisbursementGross    GrAppv  NewBusiness  \\\n",
      "5433  -1.084356 -0.383187          -0.444814 -0.417576    -0.624273   \n",
      "5635  -1.084356 -0.383187           1.800434  2.339098    -0.624273   \n",
      "2428  -1.084356  2.609692          -0.383830 -0.356307    -0.624273   \n",
      "5394   0.922206 -0.383187          -0.604134 -0.577641    -0.624273   \n",
      "7930  -1.084356 -0.383187           0.256193  0.286710     1.601863   \n",
      "...         ...       ...                ...       ...          ...   \n",
      "5787   0.922206 -0.383187           6.370533  6.429645    -0.624273   \n",
      "1262  -1.084356 -0.383187           0.312840  0.343622    -0.624273   \n",
      "5906  -1.084356 -0.383187           1.775042  1.812662    -0.624273   \n",
      "8315  -1.084356 -0.383187           0.079030  0.108717    -0.624273   \n",
      "9470   0.922206 -0.383187          -0.143877 -0.115231    -0.624273   \n",
      "\n",
      "      Same_State  IsFranchise  AppvDisbursed  \n",
      "5433    0.965310     0.549317       0.562761  \n",
      "5635    0.965310     0.549317      -1.776954  \n",
      "2428    0.965310     0.549317       0.562761  \n",
      "5394   -1.035937     0.549317       0.562761  \n",
      "7930    0.965310     0.549317       0.562761  \n",
      "...          ...          ...            ...  \n",
      "5787    0.965310     0.549317       0.562761  \n",
      "1262    0.965310     0.549317       0.562761  \n",
      "5906    0.965310     0.549317       0.562761  \n",
      "8315    0.965310     0.549317       0.562761  \n",
      "9470    0.965310     0.549317       0.562761  \n",
      "\n",
      "[7979 rows x 14 columns]\n",
      "<bound method DataFrame.info of           Term     NoEmp  CreateJob  RetainedJob  FranchiseCode  UrbanRural  \\\n",
      "5433 -0.562297 -0.205669  -0.036404    -0.046755      -0.216549   -1.185027   \n",
      "5635  0.356055  1.021696  -0.036404    -0.046755      -0.216549   -1.185027   \n",
      "2428  1.626653 -0.127327  -0.036404    -0.046755      -0.216549   -1.185027   \n",
      "5394 -1.241627  0.159929  -0.036404    -0.046755      -0.216549   -1.185027   \n",
      "7930  1.626653  0.629984  -0.036404     0.032210      -0.216549   -1.185027   \n",
      "...        ...       ...        ...          ...            ...         ...   \n",
      "5787  1.626653  1.021696   0.003724    -0.046755      -0.216549    0.372830   \n",
      "1262  1.626653 -0.022870  -0.036404    -0.007273      -0.216549   -1.185027   \n",
      "5906  1.626653  0.499413   0.007737     0.028261      -0.216549   -1.185027   \n",
      "8315 -0.260373 -0.127327  -0.036404    -0.046755      -0.216549    0.372830   \n",
      "9470 -0.335854 -0.257898  -0.036404    -0.042807      -0.216549    0.372830   \n",
      "\n",
      "      RevLineCr    LowDoc  DisbursementGross    GrAppv  NewBusiness  \\\n",
      "5433  -1.084356 -0.383187          -0.444814 -0.417576    -0.624273   \n",
      "5635  -1.084356 -0.383187           1.800434  2.339098    -0.624273   \n",
      "2428  -1.084356  2.609692          -0.383830 -0.356307    -0.624273   \n",
      "5394   0.922206 -0.383187          -0.604134 -0.577641    -0.624273   \n",
      "7930  -1.084356 -0.383187           0.256193  0.286710     1.601863   \n",
      "...         ...       ...                ...       ...          ...   \n",
      "5787   0.922206 -0.383187           6.370533  6.429645    -0.624273   \n",
      "1262  -1.084356 -0.383187           0.312840  0.343622    -0.624273   \n",
      "5906  -1.084356 -0.383187           1.775042  1.812662    -0.624273   \n",
      "8315  -1.084356 -0.383187           0.079030  0.108717    -0.624273   \n",
      "9470   0.922206 -0.383187          -0.143877 -0.115231    -0.624273   \n",
      "\n",
      "      Same_State  IsFranchise  AppvDisbursed  \n",
      "5433    0.965310     0.549317       0.562761  \n",
      "5635    0.965310     0.549317      -1.776954  \n",
      "2428    0.965310     0.549317       0.562761  \n",
      "5394   -1.035937     0.549317       0.562761  \n",
      "7930    0.965310     0.549317       0.562761  \n",
      "...          ...          ...            ...  \n",
      "5787    0.965310     0.549317       0.562761  \n",
      "1262    0.965310     0.549317       0.562761  \n",
      "5906    0.965310     0.549317       0.562761  \n",
      "8315    0.965310     0.549317       0.562761  \n",
      "9470    0.965310     0.549317       0.562761  \n",
      "\n",
      "[7979 rows x 14 columns]>\n"
     ]
    }
   ],
   "source": [
    "print(X_train)\n",
    "print(X_train.info)\n"
   ]
  },
  {
   "cell_type": "code",
   "execution_count": 393,
   "id": "15a5817c",
   "metadata": {},
   "outputs": [
    {
     "name": "stdout",
     "output_type": "stream",
     "text": [
      "5446    0\n",
      "5649    0\n",
      "2435    0\n",
      "5407    0\n",
      "7951    0\n",
      "       ..\n",
      "5801    0\n",
      "1264    0\n",
      "5920    0\n",
      "8336    1\n",
      "9493    0\n",
      "Name: MIS_Status, Length: 7979, dtype: int64\n"
     ]
    }
   ],
   "source": [
    "print(y_train)"
   ]
  },
  {
   "cell_type": "code",
   "execution_count": 394,
   "id": "111733a8",
   "metadata": {},
   "outputs": [
    {
     "data": {
      "text/plain": [
       "LogisticRegression()"
      ]
     },
     "execution_count": 394,
     "metadata": {},
     "output_type": "execute_result"
    }
   ],
   "source": [
    "model = LogisticRegression()\n",
    "model.fit(X_train,y_train)"
   ]
  },
  {
   "cell_type": "code",
   "execution_count": 395,
   "id": "9b0a8cd8",
   "metadata": {},
   "outputs": [],
   "source": [
    "predictions = model.predict(X_test)\n"
   ]
  },
  {
   "cell_type": "code",
   "execution_count": 396,
   "id": "4006c836",
   "metadata": {},
   "outputs": [],
   "source": [
    "from sklearn.metrics import classification_report, confusion_matrix\n"
   ]
  },
  {
   "cell_type": "code",
   "execution_count": 397,
   "id": "00b77f88",
   "metadata": {},
   "outputs": [
    {
     "name": "stdout",
     "output_type": "stream",
     "text": [
      "              precision    recall  f1-score   support\n",
      "\n",
      "           0       0.87      0.97      0.92      1632\n",
      "           1       0.72      0.32      0.44       363\n",
      "\n",
      "    accuracy                           0.85      1995\n",
      "   macro avg       0.79      0.65      0.68      1995\n",
      "weighted avg       0.84      0.85      0.83      1995\n",
      "\n"
     ]
    }
   ],
   "source": [
    "print(classification_report(y_test,predictions))\n"
   ]
  },
  {
   "cell_type": "code",
   "execution_count": 398,
   "id": "6c208e04",
   "metadata": {},
   "outputs": [
    {
     "data": {
      "text/plain": [
       "array([[1586,   46],\n",
       "       [ 246,  117]], dtype=int64)"
      ]
     },
     "execution_count": 398,
     "metadata": {},
     "output_type": "execute_result"
    }
   ],
   "source": [
    "confusion_matrix(y_test, predictions)\n"
   ]
  },
  {
   "cell_type": "code",
   "execution_count": 404,
   "id": "1bcc108c",
   "metadata": {},
   "outputs": [
    {
     "data": {
      "text/plain": [
       "array([1, 0, 0, ..., 0, 1, 0], dtype=int64)"
      ]
     },
     "execution_count": 404,
     "metadata": {},
     "output_type": "execute_result"
    }
   ],
   "source": [
    "predictions"
   ]
  },
  {
   "cell_type": "code",
   "execution_count": 402,
   "id": "56a675ca",
   "metadata": {},
   "outputs": [
    {
     "data": {
      "text/plain": [
       "1402    1\n",
       "5325    0\n",
       "9908    0\n",
       "758     0\n",
       "3461    1\n",
       "       ..\n",
       "7548    0\n",
       "7412    0\n",
       "6767    0\n",
       "634     0\n",
       "3766    0\n",
       "Name: MIS_Status, Length: 1995, dtype: int64"
      ]
     },
     "execution_count": 402,
     "metadata": {},
     "output_type": "execute_result"
    }
   ],
   "source": [
    "y_test"
   ]
  },
  {
   "cell_type": "markdown",
   "id": "ced690c6",
   "metadata": {},
   "source": [
    "## Model Tuning\n",
    "\n",
    "Choose one model from the above list. You should provide reasoning on why you have picked the model over others. Perform tuning for the selected model:\n",
    "- Hyper-parameter tuning. Your hyper-parameter search space should have at least 50 combinations.\n",
    "- To avoid overfitting and provide you with reasonable estimate of model performance on hold-out dataset, you will need to split your dataset as following:\n",
    "    - Train, will be used to train model\n",
    "    - Validation, will be used to validate model each round of training\n",
    "    - Testing, will be used to provide final performance metrics, used only once on the final model\n",
    "- Feature engineering. See project description\n",
    "\n",
    "**Selelct final model that produces best performance on the Test dataset.**\n",
    "- For the best model, calculate probability threshold to maximize F1. "
   ]
  },
  {
   "cell_type": "code",
   "execution_count": null,
   "id": "674ab5b8",
   "metadata": {},
   "outputs": [],
   "source": []
  },
  {
   "cell_type": "markdown",
   "id": "30bc381c",
   "metadata": {},
   "source": [
    "## Save all artifacts\n",
    "\n",
    "Save all artifacts needed for scoring function:\n",
    "- Trained model\n",
    "- Encoders\n",
    "- Any other arficats you will need for scoring\n",
    "\n",
    "**You should stop your notebook here. Scoring function should be in a separate file/notebook.**"
   ]
  },
  {
   "cell_type": "markdown",
   "id": "b556b0fe",
   "metadata": {},
   "source": [
    "## Stop Here. Create new file/notebook"
   ]
  },
  {
   "cell_type": "markdown",
   "id": "21ded0cd",
   "metadata": {},
   "source": [
    "## =============================================="
   ]
  },
  {
   "cell_type": "code",
   "execution_count": null,
   "id": "b7c327c4",
   "metadata": {},
   "outputs": [],
   "source": []
  },
  {
   "cell_type": "code",
   "execution_count": null,
   "id": "213f71c6",
   "metadata": {},
   "outputs": [],
   "source": []
  },
  {
   "cell_type": "markdown",
   "id": "a0d2e830",
   "metadata": {},
   "source": [
    "## Model Scoring\n",
    "\n",
    "Write function that will load artifacts from above, transform and score on a new dataset.\n",
    "Your function should return Python list of labels. For example: [0,1,0,1,1,0,0]\n"
   ]
  },
  {
   "cell_type": "code",
   "execution_count": null,
   "id": "ae1929ab",
   "metadata": {},
   "outputs": [],
   "source": [
    "def project_1_scoring(data):\n",
    "    \"\"\"\n",
    "    Function to score input dataset.\n",
    "    \n",
    "    Input: dataset in Pandas DataFrame format\n",
    "    Output: Python list of labels in the same order as input records\n",
    "    \n",
    "    Flow:\n",
    "        - Load artifacts\n",
    "        - Transform dataset\n",
    "        - Score dataset\n",
    "        - Return pandas DF with following columns:\n",
    "            - index\n",
    "            - label\n",
    "            - probability_0\n",
    "            - probability_1\n",
    "    \"\"\"\n",
    "    pass"
   ]
  },
  {
   "cell_type": "code",
   "execution_count": null,
   "id": "3cc128b9",
   "metadata": {},
   "outputs": [],
   "source": []
  },
  {
   "cell_type": "markdown",
   "id": "16157e5c",
   "metadata": {},
   "source": [
    "### Example of Scoring function\n",
    "\n",
    "Don't copy the code as is. It is provided as an example only. \n",
    "- Function `train_model` - you need to focus on model and artifacts saving:\n",
    "    ```\n",
    "    pickle.dump(obj=artifacts_dict, file=artifacts_dict_file)\n",
    "    ```\n",
    "- Function `project_1_scoring` - you should have similar function with name `project_1_scoring`. The function will:\n",
    "    - Get Pandas dataframe as parameter\n",
    "    - Will load model and all needed encoders\n",
    "    - Will perform needed manipulations on the input Pandas DF - in the exact same format as input file for the project, minus MIS_Status feature\n",
    "    - Return Pandas DataFrame\n",
    "        - record index\n",
    "        - predicted class for threshold maximizing F1\n",
    "        - probability for class 0 (PIF)\n",
    "        - probability for class 1 (CHGOFF)\n"
   ]
  },
  {
   "cell_type": "code",
   "execution_count": null,
   "id": "719dcec9",
   "metadata": {},
   "outputs": [],
   "source": [
    "df_train = pd.read_csv('titanic.csv')\n",
    "train_model(df_train)"
   ]
  },
  {
   "cell_type": "markdown",
   "id": "aa88cb35",
   "metadata": {},
   "source": [
    "### Example scoring function\n",
    "\n",
    "This is example only. Don't copy code as is!!!   \n",
    "You must place scoring function in a separate Python file or Jupyter notebook.   \n",
    "\n",
    "**Don't place function in the same notebook as rest of the code**"
   ]
  },
  {
   "cell_type": "code",
   "execution_count": null,
   "id": "fd9dbc26",
   "metadata": {},
   "outputs": [],
   "source": [
    "project_1_scoring(df_train).head()"
   ]
  }
 ],
 "metadata": {
  "kernelspec": {
   "display_name": "Python 3 (ipykernel)",
   "language": "python",
   "name": "python3"
  },
  "language_info": {
   "codemirror_mode": {
    "name": "ipython",
    "version": 3
   },
   "file_extension": ".py",
   "mimetype": "text/x-python",
   "name": "python",
   "nbconvert_exporter": "python",
   "pygments_lexer": "ipython3",
   "version": "3.9.13"
  }
 },
 "nbformat": 4,
 "nbformat_minor": 5
}
